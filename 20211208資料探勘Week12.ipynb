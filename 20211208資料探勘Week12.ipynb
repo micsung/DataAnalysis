{
  "nbformat": 4,
  "nbformat_minor": 0,
  "metadata": {
    "colab": {
      "name": "20211208資料探勘第十二週宋宜蓁",
      "provenance": [],
      "collapsed_sections": [],
      "authorship_tag": "ABX9TyPl826UqJk4I0Apqj/wVet4",
      "include_colab_link": true
    },
    "kernelspec": {
      "name": "python3",
      "display_name": "Python 3"
    },
    "language_info": {
      "name": "python"
    }
  },
  "cells": [
    {
      "cell_type": "markdown",
      "metadata": {
        "id": "view-in-github",
        "colab_type": "text"
      },
      "source": [
        "<a href=\"https://colab.research.google.com/github/micsung/data_analysis_n_application/blob/main/20211208%E8%B3%87%E6%96%99%E6%8E%A2%E5%8B%98Week12.ipynb\" target=\"_parent\"><img src=\"https://colab.research.google.com/assets/colab-badge.svg\" alt=\"Open In Colab\"/></a>"
      ]
    },
    {
      "cell_type": "code",
      "source": [
        "#https://colab.research.google.com/notebooks/snippets/sheets.ipynb#scrollTo=JiJVCmu3dhFa\n",
        "from google.colab import auth\n",
        "auth.authenticate_user()\n",
        "\n",
        "import gspread\n",
        "from oauth2client.client import GoogleCredentials\n",
        "\n",
        "gc = gspread.authorize(GoogleCredentials.get_application_default())\n",
        "\n",
        "worksheet = gc.open('20211208').sheet1\n",
        "\n",
        "# get_all_values gives a list of rows.\n",
        "rows = worksheet.get_all_values()\n",
        "print(rows)\n",
        "\n",
        "# Convert to a DataFrame and render.\n",
        "import pandas as pd\n",
        "df = pd.DataFrame.from_records(rows)\n",
        "df.columns = df.iloc[0,:]\n",
        "df.drop(index=df.index[0], \n",
        "        axis=0, \n",
        "        inplace=True)\n",
        "df.reset_index(inplace=True)\n",
        "print(df)"
      ],
      "metadata": {
        "id": "LKOTgV79vP4C",
        "colab": {
          "base_uri": "https://localhost:8080/"
        },
        "outputId": "c8985c54-13c2-4abe-dee9-b957886754bd"
      },
      "execution_count": null,
      "outputs": [
        {
          "output_type": "stream",
          "name": "stdout",
          "text": [
            "[['title', 'abstract ', 'text', 'paper_text'], ['On My Way', '', \"I'm sorry but\\nDon't wanna talk\\nI need a moment before I go\\nIt's nothing personal\\n\\nI draw the blinds\\nThey don't need to see me cry\\nCause even when they understand\\nThey don't understand\\n\\nSo then when I'm finished\\nI'm all 'bout my business\\nAnd ready to save the world\\nI'm takin my misery\\nMake it my bitch\\nCan't be everyone's favourite girl\\n\\nSo, take aim and fire away\\nI've never been so wide awake\\nNo, nobody but me can keep me safe\\nAnd I'm on my way\\nThe blood moon is on the rise\\nThe fire burning in my eyes\\nNo, nobody but me can keep me safe\\nAnd I'm on my way\\n\\nLo siento mucho, pero me voy\\nPor que a tu lado me di cuenta que nada soy\\nY me cansé de luchar y de guerrear en vano\\nDe estar en la línea de fuego y de meter la mano\\n\\n更多更詳盡歌詞 在 ※ Mojim.com\\u3000魔鏡歌詞網\\nAcepto mis errores, también soy humano\\nY tu no vez que lo Hago por que te amo\\n\\nPero ya, no tengo mas na' que hacer aquí\\nMe voy, llego la hora de partir\\nEn mi propio camino seguiré lejos de ti\\n\\nSo, take aim and fire away\\nI've never been so wide awake\\nNo, nobody but me can keep me safe\\nAnd I'm on my way\\nThe blood moon is on the rise\\nThe fire burning in my eyes\\nNo, nobody but me can keep me safe\\nAnd I'm on my way\\n\\nI'm on my way\\nEverybody, everybody keep me safe\\nEverybody, everybody keep me safe\\nEverybody, everybody keep me safe\\nEverybody, everybody keep me safe\\nEverybody, everybody on my way\\n\\nSo take aim and fire away\\nI've never been so wide awake\\nNo, nobody but me can keep me safe\\nAnd I'm on my way\\nThe blood moon is on the rise\\nThe fire burning in my eyes\\nNo, nobody but me can keep me safe\\nAnd I'm on my way\\n\", ''], ['OK', '', \"It's so uncomfortable at times\\nFinding it so hard to say I'm broken (again)\\nThe things we never talk about\\nI'm a bit afraid to let you know it\\n\\nWhen I told you it was fine\\nIt was just another lie\\nJust like boys don't cry\\n\\nLost in the threads\\nOf a little spiderwebs\\nGot me hiding in a corner\\nTrying not to call it\\nThis is how the heart breaks\\nJust like you said\\nA fairy tale from hell\\nThanks to everything you told me\\nEven though I'm only (Imma)\\nImma be OK\\n更多更詳盡歌詞 在 ※ Mojim.com\\u3000魔鏡歌詞網\\n\\nWhen I told you it was fine\\nIt was just another lie\\nSaying boys don't cry\\n\\nLost in the threads\\nOf a little spiderwebs\\nGot me hiding in a corner\\nTrying not to call it\\nThis is how the heart breaks\\nJust like you said\\nA fairy tale from hell\\nThanks to everything you told me\\nEven though I'm only (Imma)\\nImma be OK\\n\\nImma be OK\\n\", '']]\n",
            "0  index  ... paper_text\n",
            "0      1  ...           \n",
            "1      2  ...           \n",
            "\n",
            "[2 rows x 5 columns]\n"
          ]
        }
      ]
    },
    {
      "cell_type": "code",
      "source": [
        "# encoding=utf-8\n",
        "import jieba\n",
        "for i in range(0,df.shape[0]):\n",
        "  seg_list = jieba.cut(df.at[i,\"text\"], cut_all=False)\n",
        "  df.at[i,\"paper_text\"] = \" \".join(seg_list)\n",
        "  df.at[i,\"title\"] = df.at[i,\"paper_text\"][0:10]\n",
        "  df.at[i,\"abstract\"] = df.at[i,\"paper_text\"][0:20]\n",
        "\n",
        "papers = df"
      ],
      "metadata": {
        "id": "iHNzah5sK-WM",
        "colab": {
          "base_uri": "https://localhost:8080/"
        },
        "outputId": "ec640c04-8454-481d-a806-636ae2fc918d"
      },
      "execution_count": null,
      "outputs": [
        {
          "output_type": "stream",
          "name": "stderr",
          "text": [
            "Building prefix dict from the default dictionary ...\n",
            "Dumping model to file cache /tmp/jieba.cache\n",
            "Loading model cost 1.138 seconds.\n",
            "Prefix dict has been built successfully.\n"
          ]
        }
      ]
    },
    {
      "cell_type": "code",
      "source": [
        "# Load the regular expression library\n",
        "import re\n",
        "# Remove punctuation\n",
        "papers['paper_text_processed'] = papers['paper_text'].map(lambda x: re.sub('[,\\.!?]', '', x))\n",
        "# Convert the titles to lowercase\n",
        "papers['paper_text_processed'] = papers['paper_text_processed'].map(lambda x: x.lower())\n",
        "# Print out the first rows of papers\n",
        "papers['paper_text_processed'].head()"
      ],
      "metadata": {
        "id": "qjZ2gWoGNC0T",
        "colab": {
          "base_uri": "https://localhost:8080/"
        },
        "outputId": "acd3584e-0f86-4c7f-cf72-af6eada89bc4"
      },
      "execution_count": null,
      "outputs": [
        {
          "output_type": "execute_result",
          "data": {
            "text/plain": [
              "0    i ' m   sorry   but \\n don ' t   wanna   talk ...\n",
              "1    it ' s   so   uncomfortable   at   times \\n fi...\n",
              "Name: paper_text_processed, dtype: object"
            ]
          },
          "metadata": {},
          "execution_count": 9
        }
      ]
    },
    {
      "cell_type": "code",
      "source": [
        "%load_ext rpy2.ipython"
      ],
      "metadata": {
        "id": "ry_IrYAmNZ77"
      },
      "execution_count": null,
      "outputs": []
    },
    {
      "cell_type": "code",
      "source": [
        "%%R\n",
        "system(\"apt install libgsl-dev\", intern=TRUE)\n",
        "install.packages(\"topicmodels\")\n",
        "library(topicmodels)\n",
        "\n",
        "data(\"AssociatedPress\")\n",
        "print(AssociatedPress)"
      ],
      "metadata": {
        "colab": {
          "base_uri": "https://localhost:8080/"
        },
        "id": "YGcfLL0-UBoJ",
        "outputId": "392335bd-db1d-4437-98d7-32378f2458bc"
      },
      "execution_count": null,
      "outputs": [
        {
          "output_type": "stream",
          "name": "stderr",
          "text": [
            "R[write to console]: Installing package into ‘/usr/local/lib/R/site-library’\n",
            "(as ‘lib’ is unspecified)\n",
            "\n",
            "R[write to console]: also installing the dependencies ‘NLP’, ‘BH’, ‘modeltools’, ‘slam’, ‘tm’\n",
            "\n",
            "\n",
            "R[write to console]: trying URL 'https://cran.rstudio.com/src/contrib/NLP_0.2-1.tar.gz'\n",
            "\n",
            "R[write to console]: Content type 'application/x-gzip'\n",
            "R[write to console]:  length 144368 bytes (140 KB)\n",
            "\n",
            "R[write to console]: =\n",
            "R[write to console]: =\n",
            "R[write to console]: =\n",
            "R[write to console]: =\n",
            "R[write to console]: =\n",
            "R[write to console]: =\n",
            "R[write to console]: =\n",
            "R[write to console]: =\n",
            "R[write to console]: =\n",
            "R[write to console]: =\n",
            "R[write to console]: =\n",
            "R[write to console]: =\n",
            "R[write to console]: =\n",
            "R[write to console]: =\n",
            "R[write to console]: =\n",
            "R[write to console]: =\n",
            "R[write to console]: =\n",
            "R[write to console]: =\n",
            "R[write to console]: =\n",
            "R[write to console]: =\n",
            "R[write to console]: =\n",
            "R[write to console]: =\n",
            "R[write to console]: =\n",
            "R[write to console]: =\n",
            "R[write to console]: =\n",
            "R[write to console]: =\n",
            "R[write to console]: =\n",
            "R[write to console]: =\n",
            "R[write to console]: =\n",
            "R[write to console]: =\n",
            "R[write to console]: =\n",
            "R[write to console]: =\n",
            "R[write to console]: =\n",
            "R[write to console]: =\n",
            "R[write to console]: =\n",
            "R[write to console]: =\n",
            "R[write to console]: =\n",
            "R[write to console]: =\n",
            "R[write to console]: =\n",
            "R[write to console]: =\n",
            "R[write to console]: =\n",
            "R[write to console]: =\n",
            "R[write to console]: =\n",
            "R[write to console]: =\n",
            "R[write to console]: =\n",
            "R[write to console]: =\n",
            "R[write to console]: =\n",
            "R[write to console]: =\n",
            "R[write to console]: =\n",
            "R[write to console]: =\n",
            "R[write to console]: \n",
            "\n",
            "R[write to console]: downloaded 140 KB\n",
            "\n",
            "\n",
            "R[write to console]: trying URL 'https://cran.rstudio.com/src/contrib/BH_1.75.0-0.tar.gz'\n",
            "\n",
            "R[write to console]: Content type 'application/x-gzip'\n",
            "R[write to console]:  length 12801696 bytes (12.2 MB)\n",
            "\n",
            "R[write to console]: =\n",
            "R[write to console]: =\n",
            "R[write to console]: =\n",
            "R[write to console]: =\n",
            "R[write to console]: =\n",
            "R[write to console]: =\n",
            "R[write to console]: =\n",
            "R[write to console]: =\n",
            "R[write to console]: =\n",
            "R[write to console]: =\n",
            "R[write to console]: =\n",
            "R[write to console]: =\n",
            "R[write to console]: =\n",
            "R[write to console]: =\n",
            "R[write to console]: =\n",
            "R[write to console]: =\n",
            "R[write to console]: =\n",
            "R[write to console]: =\n",
            "R[write to console]: =\n",
            "R[write to console]: =\n",
            "R[write to console]: =\n",
            "R[write to console]: =\n",
            "R[write to console]: =\n",
            "R[write to console]: =\n",
            "R[write to console]: =\n",
            "R[write to console]: =\n",
            "R[write to console]: =\n",
            "R[write to console]: =\n",
            "R[write to console]: =\n",
            "R[write to console]: =\n",
            "R[write to console]: =\n",
            "R[write to console]: =\n",
            "R[write to console]: =\n",
            "R[write to console]: =\n",
            "R[write to console]: =\n",
            "R[write to console]: =\n",
            "R[write to console]: =\n",
            "R[write to console]: =\n",
            "R[write to console]: =\n",
            "R[write to console]: =\n",
            "R[write to console]: =\n",
            "R[write to console]: =\n",
            "R[write to console]: =\n",
            "R[write to console]: =\n",
            "R[write to console]: =\n",
            "R[write to console]: =\n",
            "R[write to console]: =\n",
            "R[write to console]: =\n",
            "R[write to console]: =\n",
            "R[write to console]: =\n",
            "R[write to console]: \n",
            "\n",
            "R[write to console]: downloaded 12.2 MB\n",
            "\n",
            "\n",
            "R[write to console]: trying URL 'https://cran.rstudio.com/src/contrib/modeltools_0.2-23.tar.gz'\n",
            "\n",
            "R[write to console]: Content type 'application/x-gzip'\n",
            "R[write to console]:  length 14893 bytes (14 KB)\n",
            "\n",
            "R[write to console]: =\n",
            "R[write to console]: =\n",
            "R[write to console]: =\n",
            "R[write to console]: =\n",
            "R[write to console]: =\n",
            "R[write to console]: =\n",
            "R[write to console]: =\n",
            "R[write to console]: =\n",
            "R[write to console]: =\n",
            "R[write to console]: =\n",
            "R[write to console]: =\n",
            "R[write to console]: =\n",
            "R[write to console]: =\n",
            "R[write to console]: =\n",
            "R[write to console]: =\n",
            "R[write to console]: =\n",
            "R[write to console]: =\n",
            "R[write to console]: =\n",
            "R[write to console]: =\n",
            "R[write to console]: =\n",
            "R[write to console]: =\n",
            "R[write to console]: =\n",
            "R[write to console]: =\n",
            "R[write to console]: =\n",
            "R[write to console]: =\n",
            "R[write to console]: =\n",
            "R[write to console]: =\n",
            "R[write to console]: =\n",
            "R[write to console]: =\n",
            "R[write to console]: =\n",
            "R[write to console]: =\n",
            "R[write to console]: =\n",
            "R[write to console]: =\n",
            "R[write to console]: =\n",
            "R[write to console]: =\n",
            "R[write to console]: =\n",
            "R[write to console]: =\n",
            "R[write to console]: =\n",
            "R[write to console]: =\n",
            "R[write to console]: =\n",
            "R[write to console]: =\n",
            "R[write to console]: =\n",
            "R[write to console]: =\n",
            "R[write to console]: =\n",
            "R[write to console]: =\n",
            "R[write to console]: =\n",
            "R[write to console]: =\n",
            "R[write to console]: =\n",
            "R[write to console]: =\n",
            "R[write to console]: =\n",
            "R[write to console]: \n",
            "\n",
            "R[write to console]: downloaded 14 KB\n",
            "\n",
            "\n",
            "R[write to console]: trying URL 'https://cran.rstudio.com/src/contrib/slam_0.1-49.tar.gz'\n",
            "\n",
            "R[write to console]: Content type 'application/x-gzip'\n",
            "R[write to console]:  length 53452 bytes (52 KB)\n",
            "\n",
            "R[write to console]: =\n",
            "R[write to console]: =\n",
            "R[write to console]: =\n",
            "R[write to console]: =\n",
            "R[write to console]: =\n",
            "R[write to console]: =\n",
            "R[write to console]: =\n",
            "R[write to console]: =\n",
            "R[write to console]: =\n",
            "R[write to console]: =\n",
            "R[write to console]: =\n",
            "R[write to console]: =\n",
            "R[write to console]: =\n",
            "R[write to console]: =\n",
            "R[write to console]: =\n",
            "R[write to console]: =\n",
            "R[write to console]: =\n",
            "R[write to console]: =\n",
            "R[write to console]: =\n",
            "R[write to console]: =\n",
            "R[write to console]: =\n",
            "R[write to console]: =\n",
            "R[write to console]: =\n",
            "R[write to console]: =\n",
            "R[write to console]: =\n",
            "R[write to console]: =\n",
            "R[write to console]: =\n",
            "R[write to console]: =\n",
            "R[write to console]: =\n",
            "R[write to console]: =\n",
            "R[write to console]: =\n",
            "R[write to console]: =\n",
            "R[write to console]: =\n",
            "R[write to console]: =\n",
            "R[write to console]: =\n",
            "R[write to console]: =\n",
            "R[write to console]: =\n",
            "R[write to console]: =\n",
            "R[write to console]: =\n",
            "R[write to console]: =\n",
            "R[write to console]: =\n",
            "R[write to console]: =\n",
            "R[write to console]: =\n",
            "R[write to console]: =\n",
            "R[write to console]: =\n",
            "R[write to console]: =\n",
            "R[write to console]: =\n",
            "R[write to console]: =\n",
            "R[write to console]: =\n",
            "R[write to console]: =\n",
            "R[write to console]: \n",
            "\n",
            "R[write to console]: downloaded 52 KB\n",
            "\n",
            "\n",
            "R[write to console]: trying URL 'https://cran.rstudio.com/src/contrib/tm_0.7-8.tar.gz'\n",
            "\n",
            "R[write to console]: Content type 'application/x-gzip'\n",
            "R[write to console]:  length 481583 bytes (470 KB)\n",
            "\n",
            "R[write to console]: =\n",
            "R[write to console]: =\n",
            "R[write to console]: =\n",
            "R[write to console]: =\n",
            "R[write to console]: =\n",
            "R[write to console]: =\n",
            "R[write to console]: =\n",
            "R[write to console]: =\n",
            "R[write to console]: =\n",
            "R[write to console]: =\n",
            "R[write to console]: =\n",
            "R[write to console]: =\n",
            "R[write to console]: =\n",
            "R[write to console]: =\n",
            "R[write to console]: =\n",
            "R[write to console]: =\n",
            "R[write to console]: =\n",
            "R[write to console]: =\n",
            "R[write to console]: =\n",
            "R[write to console]: =\n",
            "R[write to console]: =\n",
            "R[write to console]: =\n",
            "R[write to console]: =\n",
            "R[write to console]: =\n",
            "R[write to console]: =\n",
            "R[write to console]: =\n",
            "R[write to console]: =\n",
            "R[write to console]: =\n",
            "R[write to console]: =\n",
            "R[write to console]: =\n",
            "R[write to console]: =\n",
            "R[write to console]: =\n",
            "R[write to console]: =\n",
            "R[write to console]: =\n",
            "R[write to console]: =\n",
            "R[write to console]: =\n",
            "R[write to console]: =\n",
            "R[write to console]: =\n",
            "R[write to console]: =\n",
            "R[write to console]: =\n",
            "R[write to console]: =\n",
            "R[write to console]: =\n",
            "R[write to console]: =\n",
            "R[write to console]: =\n",
            "R[write to console]: =\n",
            "R[write to console]: =\n",
            "R[write to console]: =\n",
            "R[write to console]: =\n",
            "R[write to console]: =\n",
            "R[write to console]: =\n",
            "R[write to console]: \n",
            "\n",
            "R[write to console]: downloaded 470 KB\n",
            "\n",
            "\n",
            "R[write to console]: trying URL 'https://cran.rstudio.com/src/contrib/topicmodels_0.2-12.tar.gz'\n",
            "\n",
            "R[write to console]: Content type 'application/x-gzip'\n",
            "R[write to console]:  length 706306 bytes (689 KB)\n",
            "\n",
            "R[write to console]: =\n",
            "R[write to console]: =\n",
            "R[write to console]: =\n",
            "R[write to console]: =\n",
            "R[write to console]: =\n",
            "R[write to console]: =\n",
            "R[write to console]: =\n",
            "R[write to console]: =\n",
            "R[write to console]: =\n",
            "R[write to console]: =\n",
            "R[write to console]: =\n",
            "R[write to console]: =\n",
            "R[write to console]: =\n",
            "R[write to console]: =\n",
            "R[write to console]: =\n",
            "R[write to console]: =\n",
            "R[write to console]: =\n",
            "R[write to console]: =\n",
            "R[write to console]: =\n",
            "R[write to console]: =\n",
            "R[write to console]: =\n",
            "R[write to console]: =\n",
            "R[write to console]: =\n",
            "R[write to console]: =\n",
            "R[write to console]: =\n",
            "R[write to console]: =\n",
            "R[write to console]: =\n",
            "R[write to console]: =\n",
            "R[write to console]: =\n",
            "R[write to console]: =\n",
            "R[write to console]: =\n",
            "R[write to console]: =\n",
            "R[write to console]: =\n",
            "R[write to console]: =\n",
            "R[write to console]: =\n",
            "R[write to console]: =\n",
            "R[write to console]: =\n",
            "R[write to console]: =\n",
            "R[write to console]: =\n",
            "R[write to console]: =\n",
            "R[write to console]: =\n",
            "R[write to console]: =\n",
            "R[write to console]: =\n",
            "R[write to console]: =\n",
            "R[write to console]: =\n",
            "R[write to console]: =\n",
            "R[write to console]: =\n",
            "R[write to console]: =\n",
            "R[write to console]: =\n",
            "R[write to console]: =\n",
            "R[write to console]: \n",
            "\n",
            "R[write to console]: downloaded 689 KB\n",
            "\n",
            "\n",
            "R[write to console]: \n",
            "\n",
            "R[write to console]: \n",
            "R[write to console]: The downloaded source packages are in\n",
            "\t‘/tmp/RtmplDmBoZ/downloaded_packages’\n",
            "R[write to console]: \n",
            "R[write to console]: \n",
            "\n"
          ]
        },
        {
          "output_type": "stream",
          "name": "stdout",
          "text": [
            "<<DocumentTermMatrix (documents: 2246, terms: 10473)>>\n",
            "Non-/sparse entries: 302031/23220327\n",
            "Sparsity           : 99%\n",
            "Maximal term length: 18\n",
            "Weighting          : term frequency (tf)\n"
          ]
        }
      ]
    },
    {
      "cell_type": "code",
      "source": [
        "%%R\n",
        "ap_lda <- LDA(AssociatedPress, k = 2, control = list(seed = 1234))\n",
        "ap_lda"
      ],
      "metadata": {
        "colab": {
          "base_uri": "https://localhost:8080/"
        },
        "id": "7LsMYW6JUjKA",
        "outputId": "7c1f90ca-d7cb-4931-9700-9e5a4522a139"
      },
      "execution_count": null,
      "outputs": [
        {
          "output_type": "stream",
          "name": "stdout",
          "text": [
            "A LDA_VEM topic model with 2 topics.\n"
          ]
        }
      ]
    },
    {
      "cell_type": "code",
      "source": [
        "%%R\n",
        "install.packages(\"reshape2\")\n",
        "install.packages(\"tidytext\")\n",
        "\n",
        "library(tidytext)\n",
        "\n",
        "ap_topics <- tidy(ap_lda, matrix = \"beta\")\n",
        "ap_topics"
      ],
      "metadata": {
        "colab": {
          "base_uri": "https://localhost:8080/"
        },
        "id": "-K_R1EO6VE_l",
        "outputId": "166bd90d-b9dc-4b0b-af03-586246238341"
      },
      "execution_count": null,
      "outputs": [
        {
          "output_type": "stream",
          "name": "stderr",
          "text": [
            "R[write to console]: Installing package into ‘/usr/local/lib/R/site-library’\n",
            "(as ‘lib’ is unspecified)\n",
            "\n",
            "R[write to console]: also installing the dependency ‘plyr’\n",
            "\n",
            "\n",
            "R[write to console]: trying URL 'https://cran.rstudio.com/src/contrib/plyr_1.8.6.tar.gz'\n",
            "\n",
            "R[write to console]: Content type 'application/x-gzip'\n",
            "R[write to console]:  length 401191 bytes (391 KB)\n",
            "\n",
            "R[write to console]: =\n",
            "R[write to console]: =\n",
            "R[write to console]: =\n",
            "R[write to console]: =\n",
            "R[write to console]: =\n",
            "R[write to console]: =\n",
            "R[write to console]: =\n",
            "R[write to console]: =\n",
            "R[write to console]: =\n",
            "R[write to console]: =\n",
            "R[write to console]: =\n",
            "R[write to console]: =\n",
            "R[write to console]: =\n",
            "R[write to console]: =\n",
            "R[write to console]: =\n",
            "R[write to console]: =\n",
            "R[write to console]: =\n",
            "R[write to console]: =\n",
            "R[write to console]: =\n",
            "R[write to console]: =\n",
            "R[write to console]: =\n",
            "R[write to console]: =\n",
            "R[write to console]: =\n",
            "R[write to console]: =\n",
            "R[write to console]: =\n",
            "R[write to console]: =\n",
            "R[write to console]: =\n",
            "R[write to console]: =\n",
            "R[write to console]: =\n",
            "R[write to console]: =\n",
            "R[write to console]: =\n",
            "R[write to console]: =\n",
            "R[write to console]: =\n",
            "R[write to console]: =\n",
            "R[write to console]: =\n",
            "R[write to console]: =\n",
            "R[write to console]: =\n",
            "R[write to console]: =\n",
            "R[write to console]: =\n",
            "R[write to console]: =\n",
            "R[write to console]: =\n",
            "R[write to console]: =\n",
            "R[write to console]: =\n",
            "R[write to console]: =\n",
            "R[write to console]: =\n",
            "R[write to console]: =\n",
            "R[write to console]: =\n",
            "R[write to console]: =\n",
            "R[write to console]: =\n",
            "R[write to console]: =\n",
            "R[write to console]: \n",
            "\n",
            "R[write to console]: downloaded 391 KB\n",
            "\n",
            "\n",
            "R[write to console]: trying URL 'https://cran.rstudio.com/src/contrib/reshape2_1.4.4.tar.gz'\n",
            "\n",
            "R[write to console]: Content type 'application/x-gzip'\n",
            "R[write to console]:  length 37307 bytes (36 KB)\n",
            "\n",
            "R[write to console]: =\n",
            "R[write to console]: =\n",
            "R[write to console]: =\n",
            "R[write to console]: =\n",
            "R[write to console]: =\n",
            "R[write to console]: =\n",
            "R[write to console]: =\n",
            "R[write to console]: =\n",
            "R[write to console]: =\n",
            "R[write to console]: =\n",
            "R[write to console]: =\n",
            "R[write to console]: =\n",
            "R[write to console]: =\n",
            "R[write to console]: =\n",
            "R[write to console]: =\n",
            "R[write to console]: =\n",
            "R[write to console]: =\n",
            "R[write to console]: =\n",
            "R[write to console]: =\n",
            "R[write to console]: =\n",
            "R[write to console]: =\n",
            "R[write to console]: =\n",
            "R[write to console]: =\n",
            "R[write to console]: =\n",
            "R[write to console]: =\n",
            "R[write to console]: =\n",
            "R[write to console]: =\n",
            "R[write to console]: =\n",
            "R[write to console]: =\n",
            "R[write to console]: =\n",
            "R[write to console]: =\n",
            "R[write to console]: =\n",
            "R[write to console]: =\n",
            "R[write to console]: =\n",
            "R[write to console]: =\n",
            "R[write to console]: =\n",
            "R[write to console]: =\n",
            "R[write to console]: =\n",
            "R[write to console]: =\n",
            "R[write to console]: =\n",
            "R[write to console]: =\n",
            "R[write to console]: =\n",
            "R[write to console]: =\n",
            "R[write to console]: =\n",
            "R[write to console]: =\n",
            "R[write to console]: =\n",
            "R[write to console]: =\n",
            "R[write to console]: =\n",
            "R[write to console]: =\n",
            "R[write to console]: =\n",
            "R[write to console]: \n",
            "\n",
            "R[write to console]: downloaded 36 KB\n",
            "\n",
            "\n",
            "R[write to console]: \n",
            "\n",
            "R[write to console]: \n",
            "R[write to console]: The downloaded source packages are in\n",
            "\t‘/tmp/RtmplDmBoZ/downloaded_packages’\n",
            "R[write to console]: \n",
            "R[write to console]: \n",
            "\n",
            "R[write to console]: Installing package into ‘/usr/local/lib/R/site-library’\n",
            "(as ‘lib’ is unspecified)\n",
            "\n",
            "R[write to console]: also installing the dependencies ‘SnowballC’, ‘hunspell’, ‘janeaustenr’, ‘tokenizers’\n",
            "\n",
            "\n",
            "R[write to console]: trying URL 'https://cran.rstudio.com/src/contrib/SnowballC_0.7.0.tar.gz'\n",
            "\n",
            "R[write to console]: Content type 'application/x-gzip'\n",
            "R[write to console]:  length 405463 bytes (395 KB)\n",
            "\n",
            "R[write to console]: =\n",
            "R[write to console]: =\n",
            "R[write to console]: =\n",
            "R[write to console]: =\n",
            "R[write to console]: =\n",
            "R[write to console]: =\n",
            "R[write to console]: =\n",
            "R[write to console]: =\n",
            "R[write to console]: =\n",
            "R[write to console]: =\n",
            "R[write to console]: =\n",
            "R[write to console]: =\n",
            "R[write to console]: =\n",
            "R[write to console]: =\n",
            "R[write to console]: =\n",
            "R[write to console]: =\n",
            "R[write to console]: =\n",
            "R[write to console]: =\n",
            "R[write to console]: =\n",
            "R[write to console]: =\n",
            "R[write to console]: =\n",
            "R[write to console]: =\n",
            "R[write to console]: =\n",
            "R[write to console]: =\n",
            "R[write to console]: =\n",
            "R[write to console]: =\n",
            "R[write to console]: =\n",
            "R[write to console]: =\n",
            "R[write to console]: =\n",
            "R[write to console]: =\n",
            "R[write to console]: =\n",
            "R[write to console]: =\n",
            "R[write to console]: =\n",
            "R[write to console]: =\n",
            "R[write to console]: =\n",
            "R[write to console]: =\n",
            "R[write to console]: =\n",
            "R[write to console]: =\n",
            "R[write to console]: =\n",
            "R[write to console]: =\n",
            "R[write to console]: =\n",
            "R[write to console]: =\n",
            "R[write to console]: =\n",
            "R[write to console]: =\n",
            "R[write to console]: =\n",
            "R[write to console]: =\n",
            "R[write to console]: =\n",
            "R[write to console]: =\n",
            "R[write to console]: =\n",
            "R[write to console]: =\n",
            "R[write to console]: \n",
            "\n",
            "R[write to console]: downloaded 395 KB\n",
            "\n",
            "\n",
            "R[write to console]: trying URL 'https://cran.rstudio.com/src/contrib/hunspell_3.0.1.tar.gz'\n",
            "\n",
            "R[write to console]: Content type 'application/x-gzip'\n",
            "R[write to console]:  length 3283317 bytes (3.1 MB)\n",
            "\n",
            "R[write to console]: =\n",
            "R[write to console]: =\n",
            "R[write to console]: =\n",
            "R[write to console]: =\n",
            "R[write to console]: =\n",
            "R[write to console]: =\n",
            "R[write to console]: =\n",
            "R[write to console]: =\n",
            "R[write to console]: =\n",
            "R[write to console]: =\n",
            "R[write to console]: =\n",
            "R[write to console]: =\n",
            "R[write to console]: =\n",
            "R[write to console]: =\n",
            "R[write to console]: =\n",
            "R[write to console]: =\n",
            "R[write to console]: =\n",
            "R[write to console]: =\n",
            "R[write to console]: =\n",
            "R[write to console]: =\n",
            "R[write to console]: =\n",
            "R[write to console]: =\n",
            "R[write to console]: =\n",
            "R[write to console]: =\n",
            "R[write to console]: =\n",
            "R[write to console]: =\n",
            "R[write to console]: =\n",
            "R[write to console]: =\n",
            "R[write to console]: =\n",
            "R[write to console]: =\n",
            "R[write to console]: =\n",
            "R[write to console]: =\n",
            "R[write to console]: =\n",
            "R[write to console]: =\n",
            "R[write to console]: =\n",
            "R[write to console]: =\n",
            "R[write to console]: =\n",
            "R[write to console]: =\n",
            "R[write to console]: =\n",
            "R[write to console]: =\n",
            "R[write to console]: =\n",
            "R[write to console]: =\n",
            "R[write to console]: =\n",
            "R[write to console]: =\n",
            "R[write to console]: =\n",
            "R[write to console]: =\n",
            "R[write to console]: =\n",
            "R[write to console]: =\n",
            "R[write to console]: =\n",
            "R[write to console]: =\n",
            "R[write to console]: \n",
            "\n",
            "R[write to console]: downloaded 3.1 MB\n",
            "\n",
            "\n",
            "R[write to console]: trying URL 'https://cran.rstudio.com/src/contrib/janeaustenr_0.1.5.tar.gz'\n",
            "\n",
            "R[write to console]: Content type 'application/x-gzip'\n",
            "R[write to console]:  length 1129950 bytes (1.1 MB)\n",
            "\n",
            "R[write to console]: =\n",
            "R[write to console]: =\n",
            "R[write to console]: =\n",
            "R[write to console]: =\n",
            "R[write to console]: =\n",
            "R[write to console]: =\n",
            "R[write to console]: =\n",
            "R[write to console]: =\n",
            "R[write to console]: =\n",
            "R[write to console]: =\n",
            "R[write to console]: =\n",
            "R[write to console]: =\n",
            "R[write to console]: =\n",
            "R[write to console]: =\n",
            "R[write to console]: =\n",
            "R[write to console]: =\n",
            "R[write to console]: =\n",
            "R[write to console]: =\n",
            "R[write to console]: =\n",
            "R[write to console]: =\n",
            "R[write to console]: =\n",
            "R[write to console]: =\n",
            "R[write to console]: =\n",
            "R[write to console]: =\n",
            "R[write to console]: =\n",
            "R[write to console]: =\n",
            "R[write to console]: =\n",
            "R[write to console]: =\n",
            "R[write to console]: =\n",
            "R[write to console]: =\n",
            "R[write to console]: =\n",
            "R[write to console]: =\n",
            "R[write to console]: =\n",
            "R[write to console]: =\n",
            "R[write to console]: =\n",
            "R[write to console]: =\n",
            "R[write to console]: =\n",
            "R[write to console]: =\n",
            "R[write to console]: =\n",
            "R[write to console]: =\n",
            "R[write to console]: =\n",
            "R[write to console]: =\n",
            "R[write to console]: =\n",
            "R[write to console]: =\n",
            "R[write to console]: =\n",
            "R[write to console]: =\n",
            "R[write to console]: =\n",
            "R[write to console]: =\n",
            "R[write to console]: =\n",
            "R[write to console]: =\n",
            "R[write to console]: \n",
            "\n",
            "R[write to console]: downloaded 1.1 MB\n",
            "\n",
            "\n",
            "R[write to console]: trying URL 'https://cran.rstudio.com/src/contrib/tokenizers_0.2.1.tar.gz'\n",
            "\n",
            "R[write to console]: Content type 'application/x-gzip'\n",
            "R[write to console]:  length 458240 bytes (447 KB)\n",
            "\n",
            "R[write to console]: =\n",
            "R[write to console]: =\n",
            "R[write to console]: =\n",
            "R[write to console]: =\n",
            "R[write to console]: =\n",
            "R[write to console]: =\n",
            "R[write to console]: =\n",
            "R[write to console]: =\n",
            "R[write to console]: =\n",
            "R[write to console]: =\n",
            "R[write to console]: =\n",
            "R[write to console]: =\n",
            "R[write to console]: =\n",
            "R[write to console]: =\n",
            "R[write to console]: =\n",
            "R[write to console]: =\n",
            "R[write to console]: =\n",
            "R[write to console]: =\n",
            "R[write to console]: =\n",
            "R[write to console]: =\n",
            "R[write to console]: =\n",
            "R[write to console]: =\n",
            "R[write to console]: =\n",
            "R[write to console]: =\n",
            "R[write to console]: =\n",
            "R[write to console]: =\n",
            "R[write to console]: =\n",
            "R[write to console]: =\n",
            "R[write to console]: =\n",
            "R[write to console]: =\n",
            "R[write to console]: =\n",
            "R[write to console]: =\n",
            "R[write to console]: =\n",
            "R[write to console]: =\n",
            "R[write to console]: =\n",
            "R[write to console]: =\n",
            "R[write to console]: =\n",
            "R[write to console]: =\n",
            "R[write to console]: =\n",
            "R[write to console]: =\n",
            "R[write to console]: =\n",
            "R[write to console]: =\n",
            "R[write to console]: =\n",
            "R[write to console]: =\n",
            "R[write to console]: =\n",
            "R[write to console]: =\n",
            "R[write to console]: =\n",
            "R[write to console]: =\n",
            "R[write to console]: =\n",
            "R[write to console]: =\n",
            "R[write to console]: \n",
            "\n",
            "R[write to console]: downloaded 447 KB\n",
            "\n",
            "\n",
            "R[write to console]: trying URL 'https://cran.rstudio.com/src/contrib/tidytext_0.3.2.tar.gz'\n",
            "\n",
            "R[write to console]: Content type 'application/x-gzip'\n",
            "R[write to console]:  length 3135208 bytes (3.0 MB)\n",
            "\n",
            "R[write to console]: =\n",
            "R[write to console]: =\n",
            "R[write to console]: =\n",
            "R[write to console]: =\n",
            "R[write to console]: =\n",
            "R[write to console]: =\n",
            "R[write to console]: =\n",
            "R[write to console]: =\n",
            "R[write to console]: =\n",
            "R[write to console]: =\n",
            "R[write to console]: =\n",
            "R[write to console]: =\n",
            "R[write to console]: =\n",
            "R[write to console]: =\n",
            "R[write to console]: =\n",
            "R[write to console]: =\n",
            "R[write to console]: =\n",
            "R[write to console]: =\n",
            "R[write to console]: =\n",
            "R[write to console]: =\n",
            "R[write to console]: =\n",
            "R[write to console]: =\n",
            "R[write to console]: =\n",
            "R[write to console]: =\n",
            "R[write to console]: =\n",
            "R[write to console]: =\n",
            "R[write to console]: =\n",
            "R[write to console]: =\n",
            "R[write to console]: =\n",
            "R[write to console]: =\n",
            "R[write to console]: =\n",
            "R[write to console]: =\n",
            "R[write to console]: =\n",
            "R[write to console]: =\n",
            "R[write to console]: =\n",
            "R[write to console]: =\n",
            "R[write to console]: =\n",
            "R[write to console]: =\n",
            "R[write to console]: =\n",
            "R[write to console]: =\n",
            "R[write to console]: =\n",
            "R[write to console]: =\n",
            "R[write to console]: =\n",
            "R[write to console]: =\n",
            "R[write to console]: =\n",
            "R[write to console]: =\n",
            "R[write to console]: =\n",
            "R[write to console]: =\n",
            "R[write to console]: =\n",
            "R[write to console]: =\n",
            "R[write to console]: \n",
            "\n",
            "R[write to console]: downloaded 3.0 MB\n",
            "\n",
            "\n",
            "R[write to console]: \n",
            "\n",
            "R[write to console]: \n",
            "R[write to console]: The downloaded source packages are in\n",
            "\t‘/tmp/RtmplDmBoZ/downloaded_packages’\n",
            "R[write to console]: \n",
            "R[write to console]: \n",
            "\n"
          ]
        },
        {
          "output_type": "stream",
          "name": "stdout",
          "text": [
            "# A tibble: 20,946 × 3\n",
            "   topic term           beta\n",
            "   <int> <chr>         <dbl>\n",
            " 1     1 aaron      1.69e-12\n",
            " 2     2 aaron      3.90e- 5\n",
            " 3     1 abandon    2.65e- 5\n",
            " 4     2 abandon    3.99e- 5\n",
            " 5     1 abandoned  1.39e- 4\n",
            " 6     2 abandoned  5.88e- 5\n",
            " 7     1 abandoning 2.45e-33\n",
            " 8     2 abandoning 2.34e- 5\n",
            " 9     1 abbott     2.13e- 6\n",
            "10     2 abbott     2.97e- 5\n",
            "# … with 20,936 more rows\n"
          ]
        }
      ]
    },
    {
      "cell_type": "code",
      "source": [
        "%%R\n",
        "library(ggplot2)\n",
        "library(dplyr)\n",
        "\n",
        "ap_top_terms <- ap_topics %>%\n",
        "  group_by(topic) %>%\n",
        "  slice_max(beta, n = 10) %>% \n",
        "  ungroup() %>%\n",
        "  arrange(topic, -beta)\n",
        "\n",
        "ap_top_terms %>%\n",
        "  mutate(term = reorder_within(term, beta, topic)) %>%\n",
        "  ggplot(aes(beta, term, fill = factor(topic))) +\n",
        "  geom_col(show.legend = FALSE) +\n",
        "  facet_wrap(~ topic, scales = \"free\") +\n",
        "  scale_y_reordered()"
      ],
      "metadata": {
        "colab": {
          "base_uri": "https://localhost:8080/",
          "height": 786
        },
        "id": "7vOICLAfVao0",
        "outputId": "a0d5cbe0-de67-4b8c-c13e-31867edf0a4f"
      },
      "execution_count": null,
      "outputs": [
        {
          "output_type": "stream",
          "name": "stderr",
          "text": [
            "R[write to console]: Use suppressPackageStartupMessages() to eliminate package startup\n",
            "messages\n",
            "\n",
            "R[write to console]: \n",
            "Attaching package: ‘dplyr’\n",
            "\n",
            "\n",
            "R[write to console]: The following objects are masked from ‘package:stats’:\n",
            "\n",
            "    filter, lag\n",
            "\n",
            "\n",
            "R[write to console]: The following objects are masked from ‘package:base’:\n",
            "\n",
            "    intersect, setdiff, setequal, union\n",
            "\n",
            "\n"
          ]
        },
        {
          "output_type": "display_data",
          "data": {
            "image/png": "[encoded data removed]"
          },
          "metadata": {}
        }
      ]
    },
    {
      "cell_type": "code",
      "source": [
        "%%R\n",
        "library(tidyr)\n",
        "\n",
        "beta_wide <- ap_topics %>%\n",
        "  mutate(topic = paste0(\"topic\", topic)) %>%\n",
        "  pivot_wider(names_from = topic, values_from = beta) %>% \n",
        "  filter(topic1 > .001 | topic2 > .001) %>%\n",
        "  mutate(log_ratio = log2(topic2 / topic1))\n",
        "\n",
        "beta_wide"
      ],
      "metadata": {
        "colab": {
          "base_uri": "https://localhost:8080/"
        },
        "id": "KVPXKQ_5V62N",
        "outputId": "c55a6455-357d-48a4-fd2b-bda8f4e4679f"
      },
      "execution_count": null,
      "outputs": [
        {
          "output_type": "stream",
          "name": "stdout",
          "text": [
            "# A tibble: 198 × 4\n",
            "   term              topic1      topic2 log_ratio\n",
            "   <chr>              <dbl>       <dbl>     <dbl>\n",
            " 1 administration 0.000431  0.00138         1.68 \n",
            " 2 ago            0.00107   0.000842       -0.339\n",
            " 3 agreement      0.000671  0.00104         0.630\n",
            " 4 aid            0.0000476 0.00105         4.46 \n",
            " 5 air            0.00214   0.000297       -2.85 \n",
            " 6 american       0.00203   0.00168        -0.270\n",
            " 7 analysts       0.00109   0.000000578   -10.9  \n",
            " 8 area           0.00137   0.000231       -2.57 \n",
            " 9 army           0.000262  0.00105         2.00 \n",
            "10 asked          0.000189  0.00156         3.05 \n",
            "# … with 188 more rows\n"
          ]
        }
      ]
    },
    {
      "cell_type": "code",
      "source": [
        "%%R\n",
        "ap_documents <- tidy(ap_lda, matrix = \"gamma\")\n",
        "ap_documents"
      ],
      "metadata": {
        "colab": {
          "base_uri": "https://localhost:8080/"
        },
        "id": "NncDGk_DWgkU",
        "outputId": "74f284f1-d834-4442-ee1f-8522128b7447"
      },
      "execution_count": null,
      "outputs": [
        {
          "output_type": "stream",
          "name": "stdout",
          "text": [
            "# A tibble: 4,492 × 3\n",
            "   document topic    gamma\n",
            "      <int> <int>    <dbl>\n",
            " 1        1     1 0.248   \n",
            " 2        2     1 0.362   \n",
            " 3        3     1 0.527   \n",
            " 4        4     1 0.357   \n",
            " 5        5     1 0.181   \n",
            " 6        6     1 0.000588\n",
            " 7        7     1 0.773   \n",
            " 8        8     1 0.00445 \n",
            " 9        9     1 0.967   \n",
            "10       10     1 0.147   \n",
            "# … with 4,482 more rows\n"
          ]
        }
      ]
    },
    {
      "cell_type": "code",
      "source": [
        "%%R\n",
        "tidy(AssociatedPress) %>%\n",
        "  filter(document == 6) %>%\n",
        "  arrange(desc(count))"
      ],
      "metadata": {
        "colab": {
          "base_uri": "https://localhost:8080/"
        },
        "id": "drXndHIUY2vh",
        "outputId": "56c857fa-46ba-4bbf-e872-0be26993a920"
      },
      "execution_count": null,
      "outputs": [
        {
          "output_type": "stream",
          "name": "stdout",
          "text": [
            "# A tibble: 287 × 3\n",
            "   document term           count\n",
            "      <int> <chr>          <dbl>\n",
            " 1        6 noriega           16\n",
            " 2        6 panama            12\n",
            " 3        6 jackson            6\n",
            " 4        6 powell             6\n",
            " 5        6 administration     5\n",
            " 6        6 economic           5\n",
            " 7        6 general            5\n",
            " 8        6 i                  5\n",
            " 9        6 panamanian         5\n",
            "10        6 american           4\n",
            "# … with 277 more rows\n"
          ]
        }
      ]
    },
    {
      "cell_type": "code",
      "source": [
        "%%R\n",
        "titles <- c(\"Twenty Thousand Leagues under the Sea\", \n",
        "            \"The War of the Worlds\",\n",
        "            \"Pride and Prejudice\", \n",
        "            \"Great Expectations\")"
      ],
      "metadata": {
        "id": "ZpN0bqjLcdlr"
      },
      "execution_count": null,
      "outputs": []
    },
    {
      "cell_type": "code",
      "source": [
        "%%R\n",
        "install.packages(\"gutenbergr\")\n",
        "library(gutenbergr)\n",
        "\n",
        "books <- gutenberg_works(title %in% titles) %>%\n",
        "  gutenberg_download(meta_fields = \"title\")"
      ],
      "metadata": {
        "colab": {
          "base_uri": "https://localhost:8080/"
        },
        "id": "SisraX2XcgeR",
        "outputId": "6fdd7bef-84cf-4463-8de1-5afeb5ece4b4"
      },
      "execution_count": null,
      "outputs": [
        {
          "output_type": "stream",
          "name": "stderr",
          "text": [
            "R[write to console]: Installing package into ‘/usr/local/lib/R/site-library’\n",
            "(as ‘lib’ is unspecified)\n",
            "\n",
            "R[write to console]: trying URL 'https://cran.rstudio.com/src/contrib/gutenbergr_0.2.1.tar.gz'\n",
            "\n",
            "R[write to console]: Content type 'application/x-gzip'\n",
            "R[write to console]:  length 3062753 bytes (2.9 MB)\n",
            "\n",
            "R[write to console]: =\n",
            "R[write to console]: =\n",
            "R[write to console]: =\n",
            "R[write to console]: =\n",
            "R[write to console]: =\n",
            "R[write to console]: =\n",
            "R[write to console]: =\n",
            "R[write to console]: =\n",
            "R[write to console]: =\n",
            "R[write to console]: =\n",
            "R[write to console]: =\n",
            "R[write to console]: =\n",
            "R[write to console]: =\n",
            "R[write to console]: =\n",
            "R[write to console]: =\n",
            "R[write to console]: =\n",
            "R[write to console]: =\n",
            "R[write to console]: =\n",
            "R[write to console]: =\n",
            "R[write to console]: =\n",
            "R[write to console]: =\n",
            "R[write to console]: =\n",
            "R[write to console]: =\n",
            "R[write to console]: =\n",
            "R[write to console]: =\n",
            "R[write to console]: =\n",
            "R[write to console]: =\n",
            "R[write to console]: =\n",
            "R[write to console]: =\n",
            "R[write to console]: =\n",
            "R[write to console]: =\n",
            "R[write to console]: =\n",
            "R[write to console]: =\n",
            "R[write to console]: =\n",
            "R[write to console]: =\n",
            "R[write to console]: =\n",
            "R[write to console]: =\n",
            "R[write to console]: =\n",
            "R[write to console]: =\n",
            "R[write to console]: =\n",
            "R[write to console]: =\n",
            "R[write to console]: =\n",
            "R[write to console]: =\n",
            "R[write to console]: =\n",
            "R[write to console]: =\n",
            "R[write to console]: =\n",
            "R[write to console]: =\n",
            "R[write to console]: =\n",
            "R[write to console]: =\n",
            "R[write to console]: =\n",
            "R[write to console]: \n",
            "\n",
            "R[write to console]: downloaded 2.9 MB\n",
            "\n",
            "\n",
            "R[write to console]: \n",
            "\n",
            "R[write to console]: \n",
            "R[write to console]: The downloaded source packages are in\n",
            "\t‘/tmp/RtmplDmBoZ/downloaded_packages’\n",
            "R[write to console]: \n",
            "R[write to console]: \n",
            "\n"
          ]
        }
      ]
    },
    {
      "cell_type": "code",
      "source": [
        "%%R\n",
        "library(stringr)\n",
        "\n",
        "# divide into documents, each representing one chapter\n",
        "by_chapter <- books %>%\n",
        "  group_by(title) %>%\n",
        "  mutate(chapter = cumsum(str_detect(\n",
        "    text, regex(\"^chapter \", ignore_case = TRUE)\n",
        "  ))) %>%\n",
        "  ungroup() %>%\n",
        "  filter(chapter > 0) %>%\n",
        "  unite(document, title, chapter)\n",
        "\n",
        "# split into words\n",
        "by_chapter_word <- by_chapter %>%\n",
        "  unnest_tokens(word, text)\n",
        "\n",
        "# find document-word counts\n",
        "word_counts <- by_chapter_word %>%\n",
        "  anti_join(stop_words) %>%\n",
        "  count(document, word, sort = TRUE) %>%\n",
        "  ungroup()\n",
        "\n",
        "word_counts"
      ],
      "metadata": {
        "colab": {
          "base_uri": "https://localhost:8080/"
        },
        "id": "QRFl2881crYH",
        "outputId": "10c70ce8-ea1c-4e0c-ab3d-a8787ab4db5a"
      },
      "execution_count": null,
      "outputs": [
        {
          "output_type": "stream",
          "name": "stdout",
          "text": [
            "Joining, by = \"word\"\n",
            "# A tibble: 90,252 × 3\n",
            "   document              word        n\n",
            "   <chr>                 <chr>   <int>\n",
            " 1 Great Expectations_57 joe        88\n",
            " 2 Great Expectations_7  joe        70\n",
            " 3 Great Expectations_17 biddy      63\n",
            " 4 Great Expectations_27 joe        58\n",
            " 5 Great Expectations_38 estella    58\n",
            " 6 Great Expectations_2  joe        56\n",
            " 7 Great Expectations_23 pocket     53\n",
            " 8 Great Expectations_15 joe        50\n",
            " 9 Great Expectations_18 joe        50\n",
            "10 Great Expectations_9  joe        44\n",
            "# … with 90,242 more rows\n"
          ]
        }
      ]
    },
    {
      "cell_type": "code",
      "source": [
        "%%R\n",
        "chapters_dtm <- word_counts %>%\n",
        "  cast_dtm(document, word, n)\n",
        "\n",
        "chapters_dtm"
      ],
      "metadata": {
        "colab": {
          "base_uri": "https://localhost:8080/"
        },
        "id": "j58JzfTbcxF0",
        "outputId": "f8cd6c3e-3aaa-4009-b09e-e5efe2fb41df"
      },
      "execution_count": null,
      "outputs": [
        {
          "output_type": "stream",
          "name": "stdout",
          "text": [
            "<<DocumentTermMatrix (documents: 166, terms: 16401)>>\n",
            "Non-/sparse entries: 90252/2632314\n",
            "Sparsity           : 97%\n",
            "Maximal term length: 19\n",
            "Weighting          : term frequency (tf)\n"
          ]
        }
      ]
    },
    {
      "cell_type": "code",
      "source": [
        "%%R\n",
        "chapters_lda <- LDA(chapters_dtm, k = 4, control = list(seed = 1234))\n",
        "chapters_lda"
      ],
      "metadata": {
        "colab": {
          "base_uri": "https://localhost:8080/"
        },
        "id": "hbx5xVcGc0BI",
        "outputId": "7fc6149f-a217-4e87-efd6-6be76dd2c3c8"
      },
      "execution_count": null,
      "outputs": [
        {
          "output_type": "stream",
          "name": "stdout",
          "text": [
            "A LDA_VEM topic model with 4 topics.\n"
          ]
        }
      ]
    },
    {
      "cell_type": "code",
      "source": [
        "%%R\n",
        "chapter_topics <- tidy(chapters_lda, matrix = \"beta\")\n",
        "chapter_topics"
      ],
      "metadata": {
        "colab": {
          "base_uri": "https://localhost:8080/"
        },
        "id": "N-s1oIGuc6q9",
        "outputId": "0ff1b0b3-54aa-4af3-b997-efc706cee53f"
      },
      "execution_count": null,
      "outputs": [
        {
          "output_type": "stream",
          "name": "stdout",
          "text": [
            "# A tibble: 65,604 × 3\n",
            "   topic term         beta\n",
            "   <int> <chr>       <dbl>\n",
            " 1     1 joe     1.26e-  2\n",
            " 2     2 joe     2.94e- 33\n",
            " 3     3 joe     3.82e- 28\n",
            " 4     4 joe     8.27e- 32\n",
            " 5     1 biddy   4.14e-  3\n",
            " 6     2 biddy   3.73e-127\n",
            " 7     3 biddy   1.71e- 25\n",
            " 8     4 biddy   2.31e- 37\n",
            " 9     1 estella 4.30e-  3\n",
            "10     2 estella 2.67e-  9\n",
            "# … with 65,594 more rows\n"
          ]
        }
      ]
    },
    {
      "cell_type": "code",
      "source": [
        "%%R\n",
        "top_terms <- chapter_topics %>%\n",
        "  group_by(topic) %>%\n",
        "  slice_max(beta, n = 5) %>% \n",
        "  ungroup() %>%\n",
        "  arrange(topic, -beta)\n",
        "\n",
        "top_terms"
      ],
      "metadata": {
        "colab": {
          "base_uri": "https://localhost:8080/"
        },
        "id": "jSZbpktoc-Sv",
        "outputId": "142cbd84-4446-4518-e632-306f1e301f6a"
      },
      "execution_count": null,
      "outputs": [
        {
          "output_type": "stream",
          "name": "stdout",
          "text": [
            "# A tibble: 20 × 3\n",
            "   topic term         beta\n",
            "   <int> <chr>       <dbl>\n",
            " 1     1 joe       0.0126 \n",
            " 2     1 miss      0.00678\n",
            " 3     1 time      0.00653\n",
            " 4     1 pip       0.00592\n",
            " 5     1 looked    0.00581\n",
            " 6     2 ned       0.0124 \n",
            " 7     2 captain   0.0120 \n",
            " 8     2 nautilus  0.00975\n",
            " 9     2 land      0.00759\n",
            "10     2 conseil   0.00674\n",
            "11     3 elizabeth 0.0156 \n",
            "12     3 darcy     0.00975\n",
            "13     3 bennet    0.00771\n",
            "14     3 miss      0.00764\n",
            "15     3 jane      0.00722\n",
            "16     4 captain   0.0162 \n",
            "17     4 nautilus  0.0141 \n",
            "18     4 nemo      0.00979\n",
            "19     4 sea       0.00941\n",
            "20     4 conseil   0.00659\n"
          ]
        }
      ]
    },
    {
      "cell_type": "code",
      "source": [
        "%%R\n",
        "library(ggplot2)\n",
        "\n",
        "top_terms %>%\n",
        "  mutate(term = reorder_within(term, beta, topic)) %>%\n",
        "  ggplot(aes(beta, term, fill = factor(topic))) +\n",
        "  geom_col(show.legend = FALSE) +\n",
        "  facet_wrap(~ topic, scales = \"free\") +\n",
        "  scale_y_reordered()"
      ],
      "metadata": {
        "colab": {
          "base_uri": "https://localhost:8080/",
          "height": 497
        },
        "id": "rSlIO1qddCwb",
        "outputId": "aa38ccc6-6184-49a4-a1ae-b280225bb408"
      },
      "execution_count": null,
      "outputs": [
        {
          "output_type": "display_data",
          "data": {
            "image/png": "[encoded data removed]"
          },
          "metadata": {}
        }
      ]
    },
    {
      "cell_type": "code",
      "source": [
        "%%R\n",
        "chapters_gamma <- tidy(chapters_lda, matrix = \"gamma\")\n",
        "chapters_gamma"
      ],
      "metadata": {
        "colab": {
          "base_uri": "https://localhost:8080/"
        },
        "id": "Dxn1azCudHy1",
        "outputId": "1a7d5d71-0166-43c7-fdeb-8299af507bbe"
      },
      "execution_count": null,
      "outputs": [
        {
          "output_type": "stream",
          "name": "stdout",
          "text": [
            "# A tibble: 664 × 3\n",
            "   document              topic gamma\n",
            "   <chr>                 <int> <dbl>\n",
            " 1 Great Expectations_57     1 1.00 \n",
            " 2 Great Expectations_7      1 1.00 \n",
            " 3 Great Expectations_17     1 0.992\n",
            " 4 Great Expectations_27     1 1.00 \n",
            " 5 Great Expectations_38     1 0.965\n",
            " 6 Great Expectations_2      1 1.00 \n",
            " 7 Great Expectations_23     1 0.549\n",
            " 8 Great Expectations_15     1 1.00 \n",
            " 9 Great Expectations_18     1 1.00 \n",
            "10 Great Expectations_9      1 1.00 \n",
            "# … with 654 more rows\n"
          ]
        }
      ]
    },
    {
      "cell_type": "code",
      "source": [
        "%%R\n",
        "chapters_gamma <- chapters_gamma %>%\n",
        "  separate(document, c(\"title\", \"chapter\"), sep = \"_\", convert = TRUE)\n",
        "\n",
        "chapters_gamma"
      ],
      "metadata": {
        "colab": {
          "base_uri": "https://localhost:8080/"
        },
        "id": "dqSZLmo0dNOb",
        "outputId": "528092a5-32c4-4ff1-f5da-e4cfa7cea8b8"
      },
      "execution_count": null,
      "outputs": [
        {
          "output_type": "stream",
          "name": "stdout",
          "text": [
            "# A tibble: 664 × 4\n",
            "   title              chapter topic gamma\n",
            "   <chr>                <int> <int> <dbl>\n",
            " 1 Great Expectations      57     1 1.00 \n",
            " 2 Great Expectations       7     1 1.00 \n",
            " 3 Great Expectations      17     1 0.992\n",
            " 4 Great Expectations      27     1 1.00 \n",
            " 5 Great Expectations      38     1 0.965\n",
            " 6 Great Expectations       2     1 1.00 \n",
            " 7 Great Expectations      23     1 0.549\n",
            " 8 Great Expectations      15     1 1.00 \n",
            " 9 Great Expectations      18     1 1.00 \n",
            "10 Great Expectations       9     1 1.00 \n",
            "# … with 654 more rows\n"
          ]
        }
      ]
    },
    {
      "cell_type": "code",
      "source": [
        "%%R\n",
        "chapters_gamma %>%\n",
        "  mutate(title = reorder(title, gamma * topic)) %>%\n",
        "  ggplot(aes(factor(topic), gamma)) +\n",
        "  geom_boxplot() +\n",
        "  facet_wrap(~ title) +\n",
        "  labs(x = \"topic\", y = expression(gamma))"
      ],
      "metadata": {
        "colab": {
          "base_uri": "https://localhost:8080/",
          "height": 497
        },
        "id": "yTW6ZPfgdQsI",
        "outputId": "452066cc-f036-409e-dd12-309625ccfc74"
      },
      "execution_count": null,
      "outputs": [
        {
          "output_type": "display_data",
          "data": {
            "image/png": "[encoded data removed]"
          },
          "metadata": {}
        }
      ]
    },
    {
      "cell_type": "code",
      "source": [
        "%%R\n",
        "chapter_classifications <- chapters_gamma %>%\n",
        "  group_by(title, chapter) %>%\n",
        "  slice_max(gamma) %>%\n",
        "  ungroup()\n",
        "\n",
        "chapter_classifications"
      ],
      "metadata": {
        "colab": {
          "base_uri": "https://localhost:8080/"
        },
        "id": "voiSXi8Sdkwk",
        "outputId": "92152e5a-1d2a-43db-a3fd-1ecff6e5cf05"
      },
      "execution_count": null,
      "outputs": [
        {
          "output_type": "stream",
          "name": "stdout",
          "text": [
            "# A tibble: 166 × 4\n",
            "   title              chapter topic gamma\n",
            "   <chr>                <int> <int> <dbl>\n",
            " 1 Great Expectations       1     1  1.00\n",
            " 2 Great Expectations       2     1  1.00\n",
            " 3 Great Expectations       3     1  1.00\n",
            " 4 Great Expectations       4     1  1.00\n",
            " 5 Great Expectations       5     1  1.00\n",
            " 6 Great Expectations       6     1  1.00\n",
            " 7 Great Expectations       7     1  1.00\n",
            " 8 Great Expectations       8     1  1.00\n",
            " 9 Great Expectations       9     1  1.00\n",
            "10 Great Expectations      10     1  1.00\n",
            "# … with 156 more rows\n"
          ]
        }
      ]
    },
    {
      "cell_type": "code",
      "source": [
        "%%R\n",
        "book_topics <- chapter_classifications %>%\n",
        "  count(title, topic) %>%\n",
        "  group_by(title) %>%\n",
        "  slice_max(n, n = 1) %>% \n",
        "  ungroup() %>%\n",
        "  transmute(consensus = title, topic)\n",
        "\n",
        "chapter_classifications %>%\n",
        "  inner_join(book_topics, by = \"topic\") %>%\n",
        "  filter(title != consensus)"
      ],
      "metadata": {
        "colab": {
          "base_uri": "https://localhost:8080/"
        },
        "id": "wTwaGbR1dm2Y",
        "outputId": "aee70587-d5f9-498c-f454-5365a1407b6e"
      },
      "execution_count": null,
      "outputs": [
        {
          "output_type": "stream",
          "name": "stdout",
          "text": [
            "# A tibble: 0 × 5\n",
            "# … with 5 variables: title <chr>, chapter <int>, topic <int>, gamma <dbl>,\n",
            "#   consensus <chr>\n"
          ]
        }
      ]
    },
    {
      "cell_type": "code",
      "source": [
        "%%R\n",
        "assignments <- augment(chapters_lda, data = chapters_dtm)\n",
        "assignments"
      ],
      "metadata": {
        "colab": {
          "base_uri": "https://localhost:8080/"
        },
        "id": "xs2znvLElxTH",
        "outputId": "6bbe5da6-d6b4-459d-fd4c-91ae95da2611"
      },
      "execution_count": null,
      "outputs": [
        {
          "output_type": "stream",
          "name": "stdout",
          "text": [
            "# A tibble: 90,252 × 4\n",
            "   document              term  count .topic\n",
            "   <chr>                 <chr> <dbl>  <dbl>\n",
            " 1 Great Expectations_57 joe      88      1\n",
            " 2 Great Expectations_7  joe      70      1\n",
            " 3 Great Expectations_17 joe       5      1\n",
            " 4 Great Expectations_27 joe      58      1\n",
            " 5 Great Expectations_2  joe      56      1\n",
            " 6 Great Expectations_23 joe       1      1\n",
            " 7 Great Expectations_15 joe      50      1\n",
            " 8 Great Expectations_18 joe      50      1\n",
            " 9 Great Expectations_9  joe      44      1\n",
            "10 Great Expectations_13 joe      40      1\n",
            "# … with 90,242 more rows\n"
          ]
        }
      ]
    },
    {
      "cell_type": "code",
      "source": [
        "%%R\n",
        "assignments <- assignments %>%\n",
        "  separate(document, c(\"title\", \"chapter\"), \n",
        "           sep = \"_\", convert = TRUE) %>%\n",
        "  inner_join(book_topics, by = c(\".topic\" = \"topic\"))\n",
        "\n",
        "assignments"
      ],
      "metadata": {
        "colab": {
          "base_uri": "https://localhost:8080/"
        },
        "id": "z70GcmkPlxbV",
        "outputId": "e8203e7b-a64d-447c-cd5a-77075a6a3581"
      },
      "execution_count": null,
      "outputs": [
        {
          "output_type": "stream",
          "name": "stdout",
          "text": [
            "# A tibble: 81,803 × 6\n",
            "   title              chapter term  count .topic consensus         \n",
            "   <chr>                <int> <chr> <dbl>  <dbl> <chr>             \n",
            " 1 Great Expectations      57 joe      88      1 Great Expectations\n",
            " 2 Great Expectations       7 joe      70      1 Great Expectations\n",
            " 3 Great Expectations      17 joe       5      1 Great Expectations\n",
            " 4 Great Expectations      27 joe      58      1 Great Expectations\n",
            " 5 Great Expectations       2 joe      56      1 Great Expectations\n",
            " 6 Great Expectations      23 joe       1      1 Great Expectations\n",
            " 7 Great Expectations      15 joe      50      1 Great Expectations\n",
            " 8 Great Expectations      18 joe      50      1 Great Expectations\n",
            " 9 Great Expectations       9 joe      44      1 Great Expectations\n",
            "10 Great Expectations      13 joe      40      1 Great Expectations\n",
            "# … with 81,793 more rows\n"
          ]
        }
      ]
    },
    {
      "cell_type": "code",
      "source": [
        "%%R\n",
        "library(scales)\n",
        "\n",
        "assignments %>%\n",
        "  count(title, consensus, wt = count) %>%\n",
        "  mutate(across(c(title, consensus), ~str_wrap(., 20))) %>%\n",
        "  group_by(title) %>%\n",
        "  mutate(percent = n / sum(n)) %>%\n",
        "  ggplot(aes(consensus, title, fill = percent)) +\n",
        "  geom_tile() +\n",
        "  scale_fill_gradient2(high = \"darkred\", label = percent_format()) +\n",
        "  theme_minimal() +\n",
        "  theme(axis.text.x = element_text(angle = 90, hjust = 1),\n",
        "        panel.grid = element_blank()) +\n",
        "  labs(x = \"Book words were assigned to\",\n",
        "       y = \"Book words came from\",\n",
        "       fill = \"% of assignments\")"
      ],
      "metadata": {
        "colab": {
          "base_uri": "https://localhost:8080/",
          "height": 497
        },
        "id": "dsO7NuoWmukg",
        "outputId": "79b00678-74cf-4c87-b9d0-4331ba895829"
      },
      "execution_count": null,
      "outputs": [
        {
          "output_type": "display_data",
          "data": {
            "image/png": "[encoded data removed]"
          },
          "metadata": {}
        }
      ]
    },
    {
      "cell_type": "code",
      "source": [
        "%%R\n",
        "wrong_words <- assignments %>%\n",
        "  filter(title != consensus)\n",
        "wrong_words"
      ],
      "metadata": {
        "colab": {
          "base_uri": "https://localhost:8080/"
        },
        "id": "WlXTkU87mxIA",
        "outputId": "504b348d-a053-4d9f-9eb2-e2c64636b3ad"
      },
      "execution_count": null,
      "outputs": [
        {
          "output_type": "stream",
          "name": "stdout",
          "text": [
            "# A tibble: 434 × 6\n",
            "   title                                 chapter term    count .topic consensus \n",
            "   <chr>                                   <int> <chr>   <dbl>  <dbl> <chr>     \n",
            " 1 Great Expectations                         46 captain     1      4 Twenty Th…\n",
            " 2 Great Expectations                         54 sea         2      4 Twenty Th…\n",
            " 3 Twenty Thousand Leagues under the Sea       3 dear        1      3 Pride and…\n",
            " 4 Great Expectations                         23 love        1      3 Pride and…\n",
            " 5 Great Expectations                         23 lady        3      3 Pride and…\n",
            " 6 Great Expectations                         23 sister      1      3 Pride and…\n",
            " 7 Great Expectations                         23 jane       10      3 Pride and…\n",
            " 8 Great Expectations                         30 jane        1      3 Pride and…\n",
            " 9 Great Expectations                         22 jane        1      3 Pride and…\n",
            "10 Great Expectations                         33 jane        1      3 Pride and…\n",
            "# … with 424 more rows\n"
          ]
        }
      ]
    },
    {
      "cell_type": "code",
      "source": [
        "%%R\n",
        "wrong_words %>%\n",
        "  count(title, consensus, term, wt = count) %>%\n",
        "  ungroup() %>%\n",
        "  arrange(desc(n))"
      ],
      "metadata": {
        "colab": {
          "base_uri": "https://localhost:8080/"
        },
        "id": "8UHNIdowm1S2",
        "outputId": "12fcaba1-0b09-442d-e35a-9f22f67d8d36"
      },
      "execution_count": null,
      "outputs": [
        {
          "output_type": "stream",
          "name": "stdout",
          "text": [
            "# A tibble: 420 × 4\n",
            "   title              consensus           term         n\n",
            "   <chr>              <chr>               <chr>    <dbl>\n",
            " 1 Great Expectations Pride and Prejudice jane        13\n",
            " 2 Great Expectations Pride and Prejudice speak        7\n",
            " 3 Great Expectations Pride and Prejudice brother      6\n",
            " 4 Great Expectations Pride and Prejudice coiler       6\n",
            " 5 Great Expectations Pride and Prejudice belinda      5\n",
            " 6 Great Expectations Pride and Prejudice children     4\n",
            " 7 Great Expectations Pride and Prejudice amiable      3\n",
            " 8 Great Expectations Pride and Prejudice carriage     3\n",
            " 9 Great Expectations Pride and Prejudice daughter     3\n",
            "10 Great Expectations Pride and Prejudice domestic     3\n",
            "# … with 410 more rows\n"
          ]
        }
      ]
    },
    {
      "cell_type": "code",
      "source": [
        "%%R\n",
        "word_counts %>%\n",
        "  filter(word == \"flopson\")"
      ],
      "metadata": {
        "colab": {
          "base_uri": "https://localhost:8080/"
        },
        "id": "Qr_2F0Wnm4jl",
        "outputId": "b07d7d08-b931-4c63-eb35-2dd50f69d061"
      },
      "execution_count": null,
      "outputs": [
        {
          "output_type": "stream",
          "name": "stdout",
          "text": [
            "# A tibble: 3 × 3\n",
            "  document              word        n\n",
            "  <chr>                 <chr>   <int>\n",
            "1 Great Expectations_22 flopson    10\n",
            "2 Great Expectations_23 flopson     7\n",
            "3 Great Expectations_33 flopson     1\n"
          ]
        }
      ]
    },
    {
      "cell_type": "markdown",
      "source": [
        "讀檔https://www.basketball-reference.com/leagues/NBA_2014_games.html"
      ],
      "metadata": {
        "id": "rL8EszNEnSeA"
      }
    },
    {
      "cell_type": "code",
      "source": [
        "import pandas as pd\n",
        "data_filename= \"nba.csv\"\n",
        "dataset = pd.read_csv(data_filename)\n",
        "dataset.head()"
      ],
      "metadata": {
        "id": "qlA4sw8bnT-g",
        "outputId": "83b3cca8-a5b0-482a-bfac-fa0caf8196cf",
        "colab": {
          "base_uri": "https://localhost:8080/",
          "height": 496
        }
      },
      "execution_count": null,
      "outputs": [
        {
          "output_type": "execute_result",
          "data": {
            "text/html": [
              "<div>\n",
              "<style scoped>\n",
              "    .dataframe tbody tr th:only-of-type {\n",
              "        vertical-align: middle;\n",
              "    }\n",
              "\n",
              "    .dataframe tbody tr th {\n",
              "        vertical-align: top;\n",
              "    }\n",
              "\n",
              "    .dataframe thead th {\n",
              "        text-align: right;\n",
              "    }\n",
              "</style>\n",
              "<table border=\"1\" class=\"dataframe\">\n",
              "  <thead>\n",
              "    <tr style=\"text-align: right;\">\n",
              "      <th></th>\n",
              "      <th>Date</th>\n",
              "      <th>Start (ET)</th>\n",
              "      <th>Visitor/Neutral</th>\n",
              "      <th>PTS</th>\n",
              "      <th>Home/Neutral</th>\n",
              "      <th>PTS.1</th>\n",
              "      <th>Box Score</th>\n",
              "      <th>OT</th>\n",
              "      <th>Attend.</th>\n",
              "      <th>Notes</th>\n",
              "    </tr>\n",
              "  </thead>\n",
              "  <tbody>\n",
              "    <tr>\n",
              "      <th>0</th>\n",
              "      <td>Tue Oct 29 2013</td>\n",
              "      <td>7:00p</td>\n",
              "      <td>Orlando Magic</td>\n",
              "      <td>87</td>\n",
              "      <td>Indiana Pacers</td>\n",
              "      <td>97</td>\n",
              "      <td>Box Score</td>\n",
              "      <td>NaN</td>\n",
              "      <td>18165</td>\n",
              "      <td>NaN</td>\n",
              "    </tr>\n",
              "    <tr>\n",
              "      <th>1</th>\n",
              "      <td>Tue Oct 29 2013</td>\n",
              "      <td>8:00p</td>\n",
              "      <td>Chicago Bulls</td>\n",
              "      <td>95</td>\n",
              "      <td>Miami Heat</td>\n",
              "      <td>107</td>\n",
              "      <td>Box Score</td>\n",
              "      <td>NaN</td>\n",
              "      <td>19964</td>\n",
              "      <td>NaN</td>\n",
              "    </tr>\n",
              "    <tr>\n",
              "      <th>2</th>\n",
              "      <td>Tue Oct 29 2013</td>\n",
              "      <td>10:30p</td>\n",
              "      <td>Los Angeles Clippers</td>\n",
              "      <td>103</td>\n",
              "      <td>Los Angeles Lakers</td>\n",
              "      <td>116</td>\n",
              "      <td>Box Score</td>\n",
              "      <td>NaN</td>\n",
              "      <td>18997</td>\n",
              "      <td>NaN</td>\n",
              "    </tr>\n",
              "    <tr>\n",
              "      <th>3</th>\n",
              "      <td>Wed Oct 30 2013</td>\n",
              "      <td>7:00p</td>\n",
              "      <td>Brooklyn Nets</td>\n",
              "      <td>94</td>\n",
              "      <td>Cleveland Cavaliers</td>\n",
              "      <td>98</td>\n",
              "      <td>Box Score</td>\n",
              "      <td>NaN</td>\n",
              "      <td>20562</td>\n",
              "      <td>NaN</td>\n",
              "    </tr>\n",
              "    <tr>\n",
              "      <th>4</th>\n",
              "      <td>Wed Oct 30 2013</td>\n",
              "      <td>7:00p</td>\n",
              "      <td>Boston Celtics</td>\n",
              "      <td>87</td>\n",
              "      <td>Toronto Raptors</td>\n",
              "      <td>93</td>\n",
              "      <td>Box Score</td>\n",
              "      <td>NaN</td>\n",
              "      <td>20155</td>\n",
              "      <td>NaN</td>\n",
              "    </tr>\n",
              "  </tbody>\n",
              "</table>\n",
              "</div>"
            ],
            "text/plain": [
              "              Date Start (ET)       Visitor/Neutral  ...   OT Attend.  Notes\n",
              "0  Tue Oct 29 2013      7:00p         Orlando Magic  ...  NaN   18165    NaN\n",
              "1  Tue Oct 29 2013      8:00p         Chicago Bulls  ...  NaN   19964    NaN\n",
              "2  Tue Oct 29 2013     10:30p  Los Angeles Clippers  ...  NaN   18997    NaN\n",
              "3  Wed Oct 30 2013      7:00p         Brooklyn Nets  ...  NaN   20562    NaN\n",
              "4  Wed Oct 30 2013      7:00p        Boston Celtics  ...  NaN   20155    NaN\n",
              "\n",
              "[5 rows x 10 columns]"
            ]
          },
          "metadata": {},
          "execution_count": 40
        }
      ]
    },
    {
      "cell_type": "code",
      "source": [
        "dataset.columns = [\"Date\",\"Start\",\"Visitor Team\",\"VisitorPts\",\"Home Team\",\"HomePts\",\"Score Type\",\"OT?\",\"Atten.,\",\"Notes\"]\n",
        "dataset.iloc[:5]"
      ],
      "metadata": {
        "colab": {
          "base_uri": "https://localhost:8080/",
          "height": 496
        },
        "id": "ADQpvrXRoNKS",
        "outputId": "511fc025-0ddc-4251-bd17-d3ddf798a904"
      },
      "execution_count": null,
      "outputs": [
        {
          "output_type": "execute_result",
          "data": {
            "text/html": [
              "<div>\n",
              "<style scoped>\n",
              "    .dataframe tbody tr th:only-of-type {\n",
              "        vertical-align: middle;\n",
              "    }\n",
              "\n",
              "    .dataframe tbody tr th {\n",
              "        vertical-align: top;\n",
              "    }\n",
              "\n",
              "    .dataframe thead th {\n",
              "        text-align: right;\n",
              "    }\n",
              "</style>\n",
              "<table border=\"1\" class=\"dataframe\">\n",
              "  <thead>\n",
              "    <tr style=\"text-align: right;\">\n",
              "      <th></th>\n",
              "      <th>Date</th>\n",
              "      <th>Start</th>\n",
              "      <th>Visitor Team</th>\n",
              "      <th>VisitorPts</th>\n",
              "      <th>Home Team</th>\n",
              "      <th>HomePts</th>\n",
              "      <th>Score Type</th>\n",
              "      <th>OT?</th>\n",
              "      <th>Atten.,</th>\n",
              "      <th>Notes</th>\n",
              "    </tr>\n",
              "  </thead>\n",
              "  <tbody>\n",
              "    <tr>\n",
              "      <th>0</th>\n",
              "      <td>Tue Oct 29 2013</td>\n",
              "      <td>7:00p</td>\n",
              "      <td>Orlando Magic</td>\n",
              "      <td>87</td>\n",
              "      <td>Indiana Pacers</td>\n",
              "      <td>97</td>\n",
              "      <td>Box Score</td>\n",
              "      <td>NaN</td>\n",
              "      <td>18165</td>\n",
              "      <td>NaN</td>\n",
              "    </tr>\n",
              "    <tr>\n",
              "      <th>1</th>\n",
              "      <td>Tue Oct 29 2013</td>\n",
              "      <td>8:00p</td>\n",
              "      <td>Chicago Bulls</td>\n",
              "      <td>95</td>\n",
              "      <td>Miami Heat</td>\n",
              "      <td>107</td>\n",
              "      <td>Box Score</td>\n",
              "      <td>NaN</td>\n",
              "      <td>19964</td>\n",
              "      <td>NaN</td>\n",
              "    </tr>\n",
              "    <tr>\n",
              "      <th>2</th>\n",
              "      <td>Tue Oct 29 2013</td>\n",
              "      <td>10:30p</td>\n",
              "      <td>Los Angeles Clippers</td>\n",
              "      <td>103</td>\n",
              "      <td>Los Angeles Lakers</td>\n",
              "      <td>116</td>\n",
              "      <td>Box Score</td>\n",
              "      <td>NaN</td>\n",
              "      <td>18997</td>\n",
              "      <td>NaN</td>\n",
              "    </tr>\n",
              "    <tr>\n",
              "      <th>3</th>\n",
              "      <td>Wed Oct 30 2013</td>\n",
              "      <td>7:00p</td>\n",
              "      <td>Brooklyn Nets</td>\n",
              "      <td>94</td>\n",
              "      <td>Cleveland Cavaliers</td>\n",
              "      <td>98</td>\n",
              "      <td>Box Score</td>\n",
              "      <td>NaN</td>\n",
              "      <td>20562</td>\n",
              "      <td>NaN</td>\n",
              "    </tr>\n",
              "    <tr>\n",
              "      <th>4</th>\n",
              "      <td>Wed Oct 30 2013</td>\n",
              "      <td>7:00p</td>\n",
              "      <td>Boston Celtics</td>\n",
              "      <td>87</td>\n",
              "      <td>Toronto Raptors</td>\n",
              "      <td>93</td>\n",
              "      <td>Box Score</td>\n",
              "      <td>NaN</td>\n",
              "      <td>20155</td>\n",
              "      <td>NaN</td>\n",
              "    </tr>\n",
              "  </tbody>\n",
              "</table>\n",
              "</div>"
            ],
            "text/plain": [
              "              Date   Start          Visitor Team  ...  OT? Atten.,  Notes\n",
              "0  Tue Oct 29 2013   7:00p         Orlando Magic  ...  NaN   18165    NaN\n",
              "1  Tue Oct 29 2013   8:00p         Chicago Bulls  ...  NaN   19964    NaN\n",
              "2  Tue Oct 29 2013  10:30p  Los Angeles Clippers  ...  NaN   18997    NaN\n",
              "3  Wed Oct 30 2013   7:00p         Brooklyn Nets  ...  NaN   20562    NaN\n",
              "4  Wed Oct 30 2013   7:00p        Boston Celtics  ...  NaN   20155    NaN\n",
              "\n",
              "[5 rows x 10 columns]"
            ]
          },
          "metadata": {},
          "execution_count": 41
        }
      ]
    },
    {
      "cell_type": "code",
      "source": [
        "dataset.to_csv(\"clean_nba.csv\")"
      ],
      "metadata": {
        "id": "a_r8t_-voRyS"
      },
      "execution_count": null,
      "outputs": []
    },
    {
      "cell_type": "code",
      "source": [
        "dataset[\"HomeWin\"] = dataset[\"VisitorPts\"] < dataset[\"HomePts\"]\n",
        "dataset"
      ],
      "metadata": {
        "colab": {
          "base_uri": "https://localhost:8080/",
          "height": 1000
        },
        "id": "Yhws-A8voZZJ",
        "outputId": "b54e9ae9-51ce-4602-db5d-85876d8bbeed"
      },
      "execution_count": null,
      "outputs": [
        {
          "output_type": "execute_result",
          "data": {
            "text/html": [
              "<div>\n",
              "<style scoped>\n",
              "    .dataframe tbody tr th:only-of-type {\n",
              "        vertical-align: middle;\n",
              "    }\n",
              "\n",
              "    .dataframe tbody tr th {\n",
              "        vertical-align: top;\n",
              "    }\n",
              "\n",
              "    .dataframe thead th {\n",
              "        text-align: right;\n",
              "    }\n",
              "</style>\n",
              "<table border=\"1\" class=\"dataframe\">\n",
              "  <thead>\n",
              "    <tr style=\"text-align: right;\">\n",
              "      <th></th>\n",
              "      <th>Date</th>\n",
              "      <th>Start</th>\n",
              "      <th>Visitor Team</th>\n",
              "      <th>VisitorPts</th>\n",
              "      <th>Home Team</th>\n",
              "      <th>HomePts</th>\n",
              "      <th>Score Type</th>\n",
              "      <th>OT?</th>\n",
              "      <th>Atten.,</th>\n",
              "      <th>Notes</th>\n",
              "      <th>HomeWin</th>\n",
              "    </tr>\n",
              "  </thead>\n",
              "  <tbody>\n",
              "    <tr>\n",
              "      <th>0</th>\n",
              "      <td>Tue Oct 29 2013</td>\n",
              "      <td>7:00p</td>\n",
              "      <td>Orlando Magic</td>\n",
              "      <td>87</td>\n",
              "      <td>Indiana Pacers</td>\n",
              "      <td>97</td>\n",
              "      <td>Box Score</td>\n",
              "      <td>NaN</td>\n",
              "      <td>18165</td>\n",
              "      <td>NaN</td>\n",
              "      <td>True</td>\n",
              "    </tr>\n",
              "    <tr>\n",
              "      <th>1</th>\n",
              "      <td>Tue Oct 29 2013</td>\n",
              "      <td>8:00p</td>\n",
              "      <td>Chicago Bulls</td>\n",
              "      <td>95</td>\n",
              "      <td>Miami Heat</td>\n",
              "      <td>107</td>\n",
              "      <td>Box Score</td>\n",
              "      <td>NaN</td>\n",
              "      <td>19964</td>\n",
              "      <td>NaN</td>\n",
              "      <td>True</td>\n",
              "    </tr>\n",
              "    <tr>\n",
              "      <th>2</th>\n",
              "      <td>Tue Oct 29 2013</td>\n",
              "      <td>10:30p</td>\n",
              "      <td>Los Angeles Clippers</td>\n",
              "      <td>103</td>\n",
              "      <td>Los Angeles Lakers</td>\n",
              "      <td>116</td>\n",
              "      <td>Box Score</td>\n",
              "      <td>NaN</td>\n",
              "      <td>18997</td>\n",
              "      <td>NaN</td>\n",
              "      <td>True</td>\n",
              "    </tr>\n",
              "    <tr>\n",
              "      <th>3</th>\n",
              "      <td>Wed Oct 30 2013</td>\n",
              "      <td>7:00p</td>\n",
              "      <td>Brooklyn Nets</td>\n",
              "      <td>94</td>\n",
              "      <td>Cleveland Cavaliers</td>\n",
              "      <td>98</td>\n",
              "      <td>Box Score</td>\n",
              "      <td>NaN</td>\n",
              "      <td>20562</td>\n",
              "      <td>NaN</td>\n",
              "      <td>True</td>\n",
              "    </tr>\n",
              "    <tr>\n",
              "      <th>4</th>\n",
              "      <td>Wed Oct 30 2013</td>\n",
              "      <td>7:00p</td>\n",
              "      <td>Boston Celtics</td>\n",
              "      <td>87</td>\n",
              "      <td>Toronto Raptors</td>\n",
              "      <td>93</td>\n",
              "      <td>Box Score</td>\n",
              "      <td>NaN</td>\n",
              "      <td>20155</td>\n",
              "      <td>NaN</td>\n",
              "      <td>True</td>\n",
              "    </tr>\n",
              "    <tr>\n",
              "      <th>5</th>\n",
              "      <td>Wed Oct 30 2013</td>\n",
              "      <td>7:00p</td>\n",
              "      <td>Miami Heat</td>\n",
              "      <td>110</td>\n",
              "      <td>Philadelphia 76ers</td>\n",
              "      <td>114</td>\n",
              "      <td>Box Score</td>\n",
              "      <td>NaN</td>\n",
              "      <td>19523</td>\n",
              "      <td>NaN</td>\n",
              "      <td>True</td>\n",
              "    </tr>\n",
              "    <tr>\n",
              "      <th>6</th>\n",
              "      <td>Wed Oct 30 2013</td>\n",
              "      <td>7:30p</td>\n",
              "      <td>Washington Wizards</td>\n",
              "      <td>102</td>\n",
              "      <td>Detroit Pistons</td>\n",
              "      <td>113</td>\n",
              "      <td>Box Score</td>\n",
              "      <td>NaN</td>\n",
              "      <td>19258</td>\n",
              "      <td>NaN</td>\n",
              "      <td>True</td>\n",
              "    </tr>\n",
              "    <tr>\n",
              "      <th>7</th>\n",
              "      <td>Wed Oct 30 2013</td>\n",
              "      <td>7:30p</td>\n",
              "      <td>Milwaukee Bucks</td>\n",
              "      <td>83</td>\n",
              "      <td>New York Knicks</td>\n",
              "      <td>90</td>\n",
              "      <td>Box Score</td>\n",
              "      <td>NaN</td>\n",
              "      <td>19812</td>\n",
              "      <td>NaN</td>\n",
              "      <td>True</td>\n",
              "    </tr>\n",
              "    <tr>\n",
              "      <th>8</th>\n",
              "      <td>Wed Oct 30 2013</td>\n",
              "      <td>8:00p</td>\n",
              "      <td>Indiana Pacers</td>\n",
              "      <td>95</td>\n",
              "      <td>New Orleans Pelicans</td>\n",
              "      <td>90</td>\n",
              "      <td>Box Score</td>\n",
              "      <td>NaN</td>\n",
              "      <td>17803</td>\n",
              "      <td>NaN</td>\n",
              "      <td>False</td>\n",
              "    </tr>\n",
              "    <tr>\n",
              "      <th>9</th>\n",
              "      <td>Wed Oct 30 2013</td>\n",
              "      <td>8:00p</td>\n",
              "      <td>Orlando Magic</td>\n",
              "      <td>115</td>\n",
              "      <td>Minnesota Timberwolves</td>\n",
              "      <td>120</td>\n",
              "      <td>Box Score</td>\n",
              "      <td>OT</td>\n",
              "      <td>17988</td>\n",
              "      <td>NaN</td>\n",
              "      <td>True</td>\n",
              "    </tr>\n",
              "    <tr>\n",
              "      <th>10</th>\n",
              "      <td>Wed Oct 30 2013</td>\n",
              "      <td>8:00p</td>\n",
              "      <td>Charlotte Bobcats</td>\n",
              "      <td>83</td>\n",
              "      <td>Houston Rockets</td>\n",
              "      <td>96</td>\n",
              "      <td>Box Score</td>\n",
              "      <td>NaN</td>\n",
              "      <td>18083</td>\n",
              "      <td>NaN</td>\n",
              "      <td>True</td>\n",
              "    </tr>\n",
              "    <tr>\n",
              "      <th>11</th>\n",
              "      <td>Wed Oct 30 2013</td>\n",
              "      <td>8:30p</td>\n",
              "      <td>Memphis Grizzlies</td>\n",
              "      <td>94</td>\n",
              "      <td>San Antonio Spurs</td>\n",
              "      <td>101</td>\n",
              "      <td>Box Score</td>\n",
              "      <td>NaN</td>\n",
              "      <td>18581</td>\n",
              "      <td>NaN</td>\n",
              "      <td>True</td>\n",
              "    </tr>\n",
              "    <tr>\n",
              "      <th>12</th>\n",
              "      <td>Wed Oct 30 2013</td>\n",
              "      <td>8:30p</td>\n",
              "      <td>Atlanta Hawks</td>\n",
              "      <td>109</td>\n",
              "      <td>Dallas Mavericks</td>\n",
              "      <td>118</td>\n",
              "      <td>Box Score</td>\n",
              "      <td>NaN</td>\n",
              "      <td>19834</td>\n",
              "      <td>NaN</td>\n",
              "      <td>True</td>\n",
              "    </tr>\n",
              "    <tr>\n",
              "      <th>13</th>\n",
              "      <td>Wed Oct 30 2013</td>\n",
              "      <td>9:00p</td>\n",
              "      <td>Oklahoma City Thunder</td>\n",
              "      <td>101</td>\n",
              "      <td>Utah Jazz</td>\n",
              "      <td>98</td>\n",
              "      <td>Box Score</td>\n",
              "      <td>NaN</td>\n",
              "      <td>19911</td>\n",
              "      <td>NaN</td>\n",
              "      <td>False</td>\n",
              "    </tr>\n",
              "    <tr>\n",
              "      <th>14</th>\n",
              "      <td>Wed Oct 30 2013</td>\n",
              "      <td>10:00p</td>\n",
              "      <td>Portland Trail Blazers</td>\n",
              "      <td>91</td>\n",
              "      <td>Phoenix Suns</td>\n",
              "      <td>104</td>\n",
              "      <td>Box Score</td>\n",
              "      <td>NaN</td>\n",
              "      <td>17208</td>\n",
              "      <td>NaN</td>\n",
              "      <td>True</td>\n",
              "    </tr>\n",
              "    <tr>\n",
              "      <th>15</th>\n",
              "      <td>Wed Oct 30 2013</td>\n",
              "      <td>10:00p</td>\n",
              "      <td>Denver Nuggets</td>\n",
              "      <td>88</td>\n",
              "      <td>Sacramento Kings</td>\n",
              "      <td>90</td>\n",
              "      <td>Box Score</td>\n",
              "      <td>NaN</td>\n",
              "      <td>17317</td>\n",
              "      <td>NaN</td>\n",
              "      <td>True</td>\n",
              "    </tr>\n",
              "    <tr>\n",
              "      <th>16</th>\n",
              "      <td>Wed Oct 30 2013</td>\n",
              "      <td>10:30p</td>\n",
              "      <td>Los Angeles Lakers</td>\n",
              "      <td>94</td>\n",
              "      <td>Golden State Warriors</td>\n",
              "      <td>125</td>\n",
              "      <td>Box Score</td>\n",
              "      <td>NaN</td>\n",
              "      <td>19596</td>\n",
              "      <td>NaN</td>\n",
              "      <td>True</td>\n",
              "    </tr>\n",
              "    <tr>\n",
              "      <th>17</th>\n",
              "      <td>Thu Oct 31 2013</td>\n",
              "      <td>8:00p</td>\n",
              "      <td>New York Knicks</td>\n",
              "      <td>81</td>\n",
              "      <td>Chicago Bulls</td>\n",
              "      <td>82</td>\n",
              "      <td>Box Score</td>\n",
              "      <td>NaN</td>\n",
              "      <td>22022</td>\n",
              "      <td>NaN</td>\n",
              "      <td>True</td>\n",
              "    </tr>\n",
              "    <tr>\n",
              "      <th>18</th>\n",
              "      <td>Thu Oct 31 2013</td>\n",
              "      <td>10:30p</td>\n",
              "      <td>Golden State Warriors</td>\n",
              "      <td>115</td>\n",
              "      <td>Los Angeles Clippers</td>\n",
              "      <td>126</td>\n",
              "      <td>Box Score</td>\n",
              "      <td>NaN</td>\n",
              "      <td>19060</td>\n",
              "      <td>NaN</td>\n",
              "      <td>True</td>\n",
              "    </tr>\n",
              "  </tbody>\n",
              "</table>\n",
              "</div>"
            ],
            "text/plain": [
              "               Date   Start            Visitor Team  ...  Atten., Notes  HomeWin\n",
              "0   Tue Oct 29 2013   7:00p           Orlando Magic  ...    18165   NaN     True\n",
              "1   Tue Oct 29 2013   8:00p           Chicago Bulls  ...    19964   NaN     True\n",
              "2   Tue Oct 29 2013  10:30p    Los Angeles Clippers  ...    18997   NaN     True\n",
              "3   Wed Oct 30 2013   7:00p           Brooklyn Nets  ...    20562   NaN     True\n",
              "4   Wed Oct 30 2013   7:00p          Boston Celtics  ...    20155   NaN     True\n",
              "5   Wed Oct 30 2013   7:00p              Miami Heat  ...    19523   NaN     True\n",
              "6   Wed Oct 30 2013   7:30p      Washington Wizards  ...    19258   NaN     True\n",
              "7   Wed Oct 30 2013   7:30p         Milwaukee Bucks  ...    19812   NaN     True\n",
              "8   Wed Oct 30 2013   8:00p          Indiana Pacers  ...    17803   NaN    False\n",
              "9   Wed Oct 30 2013   8:00p           Orlando Magic  ...    17988   NaN     True\n",
              "10  Wed Oct 30 2013   8:00p       Charlotte Bobcats  ...    18083   NaN     True\n",
              "11  Wed Oct 30 2013   8:30p       Memphis Grizzlies  ...    18581   NaN     True\n",
              "12  Wed Oct 30 2013   8:30p           Atlanta Hawks  ...    19834   NaN     True\n",
              "13  Wed Oct 30 2013   9:00p   Oklahoma City Thunder  ...    19911   NaN    False\n",
              "14  Wed Oct 30 2013  10:00p  Portland Trail Blazers  ...    17208   NaN     True\n",
              "15  Wed Oct 30 2013  10:00p          Denver Nuggets  ...    17317   NaN     True\n",
              "16  Wed Oct 30 2013  10:30p      Los Angeles Lakers  ...    19596   NaN     True\n",
              "17  Thu Oct 31 2013   8:00p         New York Knicks  ...    22022   NaN     True\n",
              "18  Thu Oct 31 2013  10:30p   Golden State Warriors  ...    19060   NaN     True\n",
              "\n",
              "[19 rows x 11 columns]"
            ]
          },
          "metadata": {},
          "execution_count": 43
        }
      ]
    },
    {
      "cell_type": "code",
      "source": [
        "print(\"Home Win percentage: {0:.1f}%\".format(100 * dataset[\"HomeWin\"].sum() / dataset[\"HomeWin\"].count()))"
      ],
      "metadata": {
        "colab": {
          "base_uri": "https://localhost:8080/"
        },
        "id": "UL3fyAEIocim",
        "outputId": "80b15e9f-089c-48cd-ddaf-7b9406fc762f"
      },
      "execution_count": null,
      "outputs": [
        {
          "output_type": "stream",
          "name": "stdout",
          "text": [
            "Home Win percentage: 89.5%\n"
          ]
        }
      ]
    },
    {
      "cell_type": "markdown",
      "source": [
        "取的主場是否獲勝\n"
      ],
      "metadata": {
        "id": "SGJrgya_ofqh"
      }
    },
    {
      "cell_type": "code",
      "source": [
        "y_true = dataset[\"HomeWin\"].values"
      ],
      "metadata": {
        "id": "xbpKfpJpolaz"
      },
      "execution_count": null,
      "outputs": []
    },
    {
      "cell_type": "code",
      "source": [
        "dataset[\"HomeLastWin\"] = False\n",
        "dataset[\"VisitorLastWin\"] = False"
      ],
      "metadata": {
        "id": "eQxdVXamon8d"
      },
      "execution_count": null,
      "outputs": []
    },
    {
      "cell_type": "code",
      "source": [
        "from collections import defaultdict\n",
        "won_last = defaultdict(int)\n",
        "print(won_last)"
      ],
      "metadata": {
        "colab": {
          "base_uri": "https://localhost:8080/"
        },
        "id": "uEQ7YkL2orPF",
        "outputId": "5bf0e023-fafa-4504-b4b6-b0c9d8b76387"
      },
      "execution_count": null,
      "outputs": [
        {
          "output_type": "stream",
          "name": "stdout",
          "text": [
            "defaultdict(<class 'int'>, {})\n"
          ]
        }
      ]
    },
    {
      "cell_type": "code",
      "source": [
        "for index, row in dataset.sort_values(\"Date\").iterrows():\n",
        "    home_team = row[\"Home Team\"]\n",
        "    visitor_team = row[\"Visitor Team\"]\n",
        "    row[\"HomeLastWin\"] = won_last[home_team]\n",
        "    row[\"VisitorLastWin\"] = won_last[visitor_team]\n",
        "    dataset.loc[index] = row    \n",
        "    # Set current win\n",
        "    won_last[home_team] = row[\"HomeWin\"]\n",
        "    won_last[visitor_team] = not row[\"HomeWin\"]\n",
        "\n",
        "print(dataset)\n",
        "dataset.to_csv(\"won_last_nba.csv\")"
      ],
      "metadata": {
        "colab": {
          "base_uri": "https://localhost:8080/"
        },
        "id": "n0ryOfSpouS8",
        "outputId": "02d10994-fc72-4c8b-b62b-a75aecdeca0e"
      },
      "execution_count": null,
      "outputs": [
        {
          "output_type": "stream",
          "name": "stdout",
          "text": [
            "               Date   Start  ... HomeLastWin  VisitorLastWin\n",
            "0   Tue Oct 29 2013   7:00p  ...           0               0\n",
            "1   Tue Oct 29 2013   8:00p  ...           0            True\n",
            "2   Tue Oct 29 2013  10:30p  ...           0            True\n",
            "3   Wed Oct 30 2013   7:00p  ...           0               0\n",
            "4   Wed Oct 30 2013   7:00p  ...           0               0\n",
            "5   Wed Oct 30 2013   7:00p  ...           0            True\n",
            "6   Wed Oct 30 2013   7:30p  ...           0               0\n",
            "7   Wed Oct 30 2013   7:30p  ...       False               0\n",
            "8   Wed Oct 30 2013   8:00p  ...           0            True\n",
            "9   Wed Oct 30 2013   8:00p  ...           0           False\n",
            "10  Wed Oct 30 2013   8:00p  ...           0               0\n",
            "11  Wed Oct 30 2013   8:30p  ...           0               0\n",
            "12  Wed Oct 30 2013   8:30p  ...           0               0\n",
            "13  Wed Oct 30 2013   9:00p  ...           0               0\n",
            "14  Wed Oct 30 2013  10:00p  ...           0               0\n",
            "15  Wed Oct 30 2013  10:00p  ...           0               0\n",
            "16  Wed Oct 30 2013  10:30p  ...       False            True\n",
            "17  Thu Oct 31 2013   8:00p  ...           0               0\n",
            "18  Thu Oct 31 2013  10:30p  ...           0               0\n",
            "\n",
            "[19 rows x 13 columns]\n"
          ]
        }
      ]
    },
    {
      "cell_type": "code",
      "source": [
        "from sklearn.tree import DecisionTreeClassifier\n",
        "clf = DecisionTreeClassifier(random_state=14,criterion=\"entropy\")"
      ],
      "metadata": {
        "id": "-rllpD19owvC"
      },
      "execution_count": null,
      "outputs": []
    },
    {
      "cell_type": "code",
      "source": [
        "from sklearn.model_selection import cross_val_score\n",
        "from sklearn.model_selection import train_test_split\n",
        "import numpy as np\n",
        "\n",
        "# Create a dataset with just the neccessary information\n",
        "X_previouswins = dataset[[\"HomeLastWin\", \"VisitorLastWin\"]].values\n",
        "clf = DecisionTreeClassifier(random_state=14,criterion=\"entropy\")\n",
        "clf.fit(X_previouswins,y_true)\n",
        "scores = cross_val_score(clf, X_previouswins, y_true, scoring='accuracy')\n",
        "print(\"Using just the last result from the home and visitor teams\")\n",
        "print(\"Accuracy: {0:.1f}%\".format(np.mean(scores) * 100))"
      ],
      "metadata": {
        "colab": {
          "base_uri": "https://localhost:8080/"
        },
        "id": "BKdg5_56oy4a",
        "outputId": "b00d08ad-71ca-4151-e18c-bc48196601fb"
      },
      "execution_count": null,
      "outputs": [
        {
          "output_type": "stream",
          "name": "stdout",
          "text": [
            "Using just the last result from the home and visitor teams\n",
            "Accuracy: 90.0%\n"
          ]
        },
        {
          "output_type": "stream",
          "name": "stderr",
          "text": [
            "/usr/local/lib/python3.7/dist-packages/sklearn/model_selection/_split.py:680: UserWarning: The least populated class in y has only 2 members, which is less than n_splits=5.\n",
            "  UserWarning,\n"
          ]
        }
      ]
    },
    {
      "cell_type": "code",
      "source": [
        "from sklearn import tree\n",
        " \n",
        "tree.plot_tree(clf,filled = True)"
      ],
      "metadata": {
        "colab": {
          "base_uri": "https://localhost:8080/",
          "height": 319
        },
        "id": "KnVnvSiwo1ym",
        "outputId": "a8893370-c506-4ce9-d465-8ac0da7f94f8"
      },
      "execution_count": null,
      "outputs": [
        {
          "output_type": "execute_result",
          "data": {
            "text/plain": [
              "[Text(167.4, 163.07999999999998, 'X[1] <= 0.5\\nentropy = 0.485\\nsamples = 19\\nvalue = [2, 17]'),\n",
              " Text(83.7, 54.360000000000014, 'entropy = 0.371\\nsamples = 14\\nvalue = [1, 13]'),\n",
              " Text(251.10000000000002, 54.360000000000014, 'entropy = 0.722\\nsamples = 5\\nvalue = [1, 4]')]"
            ]
          },
          "metadata": {},
          "execution_count": 51
        },
        {
          "output_type": "display_data",
          "data": {
            "image/png": "[encoded data removed]",
            "text/plain": [
              "<Figure size 432x288 with 1 Axes>"
            ]
          },
          "metadata": {
            "needs_background": "light"
          }
        }
      ]
    }
  ]
}