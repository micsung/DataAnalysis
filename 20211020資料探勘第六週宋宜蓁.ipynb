{
  "nbformat": 4,
  "nbformat_minor": 0,
  "metadata": {
    "colab": {
      "name": "20211020資料探勘第六週宋宜蓁",
      "provenance": [],
      "authorship_tag": "ABX9TyNVxQB9ICGUig5jYquG/vcT",
      "include_colab_link": true
    },
    "kernelspec": {
      "name": "python3",
      "display_name": "Python 3"
    },
    "language_info": {
      "name": "python"
    }
  },
  "cells": [
    {
      "cell_type": "markdown",
      "metadata": {
        "id": "view-in-github",
        "colab_type": "text"
      },
      "source": [
        "<a href=\"https://colab.research.google.com/github/micsung/data_analysis_n_application/blob/main/20211020%E8%B3%87%E6%96%99%E6%8E%A2%E5%8B%98%E7%AC%AC%E5%85%AD%E9%80%B1%E5%AE%8B%E5%AE%9C%E8%93%81.ipynb\" target=\"_parent\"><img src=\"https://colab.research.google.com/assets/colab-badge.svg\" alt=\"Open In Colab\"/></a>"
      ]
    },
    {
      "cell_type": "code",
      "metadata": {
        "colab": {
          "base_uri": "https://localhost:8080/"
        },
        "id": "OF5QWmV8w6wL",
        "outputId": "9ceffacb-09fe-47f2-be4b-bf542dd17dc8"
      },
      "source": [
        "def add(x,y):\n",
        "  return x+y;\n",
        "result = add(1,3)\n",
        "print(result)"
      ],
      "execution_count": null,
      "outputs": [
        {
          "output_type": "stream",
          "name": "stdout",
          "text": [
            "4\n"
          ]
        }
      ]
    },
    {
      "cell_type": "code",
      "metadata": {
        "id": "58WVLreCxeWV"
      },
      "source": [
        "%load_ext rpy2.ipython\n"
      ],
      "execution_count": null,
      "outputs": []
    },
    {
      "cell_type": "code",
      "metadata": {
        "colab": {
          "base_uri": "https://localhost:8080/"
        },
        "id": "tHsde3lfxkcP",
        "outputId": "78556af7-b754-4982-dd24-94c38c2f77f7"
      },
      "source": [
        "%%R\n",
        "x <- 1\n",
        "y <- 2\n",
        "\n",
        "add <- function(x,y){\n",
        "      return (x+y)\n",
        "}\n",
        "result= add(x,y)\n",
        "print(y)"
      ],
      "execution_count": null,
      "outputs": [
        {
          "output_type": "stream",
          "name": "stdout",
          "text": [
            "[1] 2\n"
          ]
        }
      ]
    },
    {
      "cell_type": "code",
      "metadata": {
        "id": "CHZt8Rqny6SX"
      },
      "source": [
        "%%R\n",
        "# 安裝 magrittr 套件 ---------\n",
        "install.packages(\"magrittr\")\n",
        "# 載入 magrittr 套件 ---------\n",
        "library(magrittr)"
      ],
      "execution_count": null,
      "outputs": []
    },
    {
      "cell_type": "code",
      "metadata": {
        "colab": {
          "base_uri": "https://localhost:8080/"
        },
        "id": "reu1QjFZzQnG",
        "outputId": "7f282d72-a1aa-46e3-901b-3fddacc486c0"
      },
      "source": [
        "%%R\n",
        "x <- function(a){\n",
        "    return (a*2)\n",
        "}\n",
        "\n",
        "print(x(-5:5))\n",
        "\n",
        "a <- x(-5:5)\n",
        "print( abs(a) )\n",
        "\n",
        "x(-5:5) %>% abs() # Foreward Pipe"
      ],
      "execution_count": null,
      "outputs": [
        {
          "output_type": "stream",
          "name": "stdout",
          "text": [
            " [1] -10  -8  -6  -4  -2   0   2   4   6   8  10\n",
            " [1] 10  8  6  4  2  0  2  4  6  8 10\n",
            " [1] 10  8  6  4  2  0  2  4  6  8 10\n"
          ]
        }
      ]
    },
    {
      "cell_type": "code",
      "metadata": {
        "colab": {
          "base_uri": "https://localhost:8080/"
        },
        "id": "Wpfa6oHU26qF",
        "outputId": "addf7fcd-876d-49d7-b2ae-904103a5ee9a"
      },
      "source": [
        "%%R\n",
        "sys_date <- Sys.Date()\n",
        "print(sys_date)"
      ],
      "execution_count": null,
      "outputs": [
        {
          "output_type": "stream",
          "name": "stdout",
          "text": [
            "[1] \"2022-07-01\"\n"
          ]
        }
      ]
    },
    {
      "cell_type": "code",
      "metadata": {
        "id": "lBU8zT-E3ddP"
      },
      "source": [
        "%%R\n",
        "# 安裝 dplyr 套件 ---------\n",
        "install.packages(\"dplyr\")\n",
        "# 安裝 dplyr 套件 ---------\n",
        "library(dplyr)"
      ],
      "execution_count": null,
      "outputs": []
    },
    {
      "cell_type": "code",
      "metadata": {
        "id": "KMG8cVDA4R_6"
      },
      "source": [
        "%%R\n",
        "# 安裝 gapminder 套件 ---------\n",
        "install.packages(\"gapminder\")\n",
        "# 載入 gapminder 套件 ---------\n",
        "library(gapminder)\n"
      ],
      "execution_count": null,
      "outputs": []
    },
    {
      "cell_type": "code",
      "metadata": {
        "colab": {
          "base_uri": "https://localhost:8080/"
        },
        "id": "Qc3QOSVO4cU0",
        "outputId": "7e13cd9c-0c37-49c7-c10c-952adc9d0726"
      },
      "source": [
        "%%R\n",
        "# 載入 gapminder 套件 ---------\n",
        "library(gapminder)\n",
        "# 檢視 gapminder 資料\n",
        "head(gapminder)"
      ],
      "execution_count": null,
      "outputs": [
        {
          "output_type": "stream",
          "name": "stdout",
          "text": [
            "# A tibble: 6 × 6\n",
            "  country     continent  year lifeExp      pop gdpPercap\n",
            "  <fct>       <fct>     <int>   <dbl>    <int>     <dbl>\n",
            "1 Afghanistan Asia       1952    28.8  8425333      779.\n",
            "2 Afghanistan Asia       1957    30.3  9240934      821.\n",
            "3 Afghanistan Asia       1962    32.0 10267083      853.\n",
            "4 Afghanistan Asia       1967    34.0 11537966      836.\n",
            "5 Afghanistan Asia       1972    36.1 13079460      740.\n",
            "6 Afghanistan Asia       1977    38.4 14880372      786.\n"
          ]
        }
      ]
    },
    {
      "cell_type": "code",
      "metadata": {
        "colab": {
          "base_uri": "https://localhost:8080/"
        },
        "id": "GVndYuB94k7t",
        "outputId": "e84e94aa-5ed3-4b7f-e03f-e4cab2cd923c"
      },
      "source": [
        "%%R\n",
        "str(gapminder)"
      ],
      "execution_count": null,
      "outputs": [
        {
          "output_type": "stream",
          "name": "stdout",
          "text": [
            "tibble [1,704 × 6] (S3: tbl_df/tbl/data.frame)\n",
            " $ country  : Factor w/ 142 levels \"Afghanistan\",..: 1 1 1 1 1 1 1 1 1 1 ...\n",
            " $ continent: Factor w/ 5 levels \"Africa\",\"Americas\",..: 3 3 3 3 3 3 3 3 3 3 ...\n",
            " $ year     : int [1:1704] 1952 1957 1962 1967 1972 1977 1982 1987 1992 1997 ...\n",
            " $ lifeExp  : num [1:1704] 28.8 30.3 32 34 36.1 ...\n",
            " $ pop      : int [1:1704] 8425333 9240934 10267083 11537966 13079460 14880372 12881816 13867957 16317921 22227415 ...\n",
            " $ gdpPercap: num [1:1704] 779 821 853 836 740 ...\n"
          ]
        }
      ]
    },
    {
      "cell_type": "code",
      "metadata": {
        "colab": {
          "base_uri": "https://localhost:8080/"
        },
        "id": "JOK-LkoO5sIE",
        "outputId": "4208bb61-a41d-4c6b-826b-c2cd00ff6a2b"
      },
      "source": [
        "%%R\n",
        "library(gapminder)\n",
        "library(dplyr)\n",
        "library(magrittr)\n",
        "\n",
        "\n",
        "gapminder %>%\n",
        "  filter(year == 2007)\n",
        "\n",
        "gapminder %>%\n",
        "  filter(lifeExp > 60.0) %>%\n",
        "  select(country)\n",
        "gapminder %>%\n",
        "  mutate(pop_in_thousands = pop / 1000)\n",
        "gapminder %>%\n",
        "  arrange(year)\n",
        "gapminder %>%\n",
        "  filter(year == 2007) %>%\n",
        "  summarise(ttl_pop = sum(as.numeric(pop)))"
      ],
      "execution_count": null,
      "outputs": [
        {
          "output_type": "stream",
          "name": "stdout",
          "text": [
            "# A tibble: 1 × 1\n",
            "     ttl_pop\n",
            "       <dbl>\n",
            "1 6251013179\n"
          ]
        }
      ]
    },
    {
      "cell_type": "code",
      "metadata": {
        "colab": {
          "base_uri": "https://localhost:8080/"
        },
        "id": "dIOZVAQe7EjO",
        "outputId": "dff76826-81d9-430f-d3be-1d182910d713"
      },
      "source": [
        "%%R\n",
        "gapminder %>%\n",
        "  filter(year == 2007) %>%\n",
        "  group_by(continent) %>%\n",
        "  summarise(ttl_pop = sum(as.numeric(pop)))\n"
      ],
      "execution_count": null,
      "outputs": [
        {
          "output_type": "stream",
          "name": "stdout",
          "text": [
            "# A tibble: 5 × 2\n",
            "  continent    ttl_pop\n",
            "  <fct>          <dbl>\n",
            "1 Africa     929539692\n",
            "2 Americas   898871184\n",
            "3 Asia      3811953827\n",
            "4 Europe     586098529\n",
            "5 Oceania     24549947\n"
          ]
        }
      ]
    },
    {
      "cell_type": "code",
      "metadata": {
        "colab": {
          "base_uri": "https://localhost:8080/"
        },
        "id": "KCLbRd_h-z7y",
        "outputId": "4e1d327d-cc74-4a21-f21b-e3dd15ffb73b"
      },
      "source": [
        "%%R\n",
        "# 安裝 ggplot2 套件 ---------\n",
        "install.packages(\"ggplot2\")\n",
        "# 安裝 dplyr 套件 ---------\n",
        "library(ggplot2)"
      ],
      "execution_count": null,
      "outputs": [
        {
          "output_type": "stream",
          "name": "stderr",
          "text": [
            "R[write to console]: Installing package into ‘/usr/local/lib/R/site-library’\n",
            "(as ‘lib’ is unspecified)\n",
            "\n",
            "R[write to console]: trying URL 'https://cran.rstudio.com/src/contrib/ggplot2_3.3.6.tar.gz'\n",
            "\n",
            "R[write to console]: Content type 'application/x-gzip'\n",
            "R[write to console]:  length 3061989 bytes (2.9 MB)\n",
            "\n",
            "R[write to console]: =\n",
            "R[write to console]: =\n",
            "R[write to console]: =\n",
            "R[write to console]: =\n",
            "R[write to console]: =\n",
            "R[write to console]: =\n",
            "R[write to console]: =\n",
            "R[write to console]: =\n",
            "R[write to console]: =\n",
            "R[write to console]: =\n",
            "R[write to console]: =\n",
            "R[write to console]: =\n",
            "R[write to console]: =\n",
            "R[write to console]: =\n",
            "R[write to console]: =\n",
            "R[write to console]: =\n",
            "R[write to console]: =\n",
            "R[write to console]: =\n",
            "R[write to console]: =\n",
            "R[write to console]: =\n",
            "R[write to console]: =\n",
            "R[write to console]: =\n",
            "R[write to console]: =\n",
            "R[write to console]: =\n",
            "R[write to console]: =\n",
            "R[write to console]: =\n",
            "R[write to console]: =\n",
            "R[write to console]: =\n",
            "R[write to console]: =\n",
            "R[write to console]: =\n",
            "R[write to console]: =\n",
            "R[write to console]: =\n",
            "R[write to console]: =\n",
            "R[write to console]: =\n",
            "R[write to console]: =\n",
            "R[write to console]: =\n",
            "R[write to console]: =\n",
            "R[write to console]: =\n",
            "R[write to console]: =\n",
            "R[write to console]: =\n",
            "R[write to console]: =\n",
            "R[write to console]: =\n",
            "R[write to console]: =\n",
            "R[write to console]: =\n",
            "R[write to console]: =\n",
            "R[write to console]: =\n",
            "R[write to console]: =\n",
            "R[write to console]: =\n",
            "R[write to console]: =\n",
            "R[write to console]: =\n",
            "R[write to console]: \n",
            "\n",
            "R[write to console]: downloaded 2.9 MB\n",
            "\n",
            "\n",
            "R[write to console]: \n",
            "\n",
            "R[write to console]: \n",
            "R[write to console]: The downloaded source packages are in\n",
            "\t‘/tmp/RtmpyTBpjz/downloaded_packages’\n",
            "R[write to console]: \n",
            "R[write to console]: \n",
            "\n"
          ]
        }
      ]
    },
    {
      "cell_type": "code",
      "metadata": {
        "colab": {
          "base_uri": "https://localhost:8080/",
          "height": 497
        },
        "id": "utDPP9pq-9xE",
        "outputId": "19353e3d-6cdf-4bc8-f20c-2e92a9beb411"
      },
      "source": [
        "%%R\n",
        "library(ggplot2)\n",
        "library(gapminder)\n",
        "\n",
        "gapminder_2007 <- gapminder %>%\n",
        "  filter(year == 2007)\n",
        "scatter_plot <- ggplot(gapminder_2007, aes(x = gdpPercap, y = lifeExp)) +\n",
        "  geom_point()\n",
        "scatter_plot"
      ],
      "execution_count": null,
      "outputs": [
        {
          "output_type": "display_data",
          "data": {
            "image/png": "[encoded data removed]"
          },
          "metadata": {}
        }
      ]
    },
    {
      "cell_type": "code",
      "metadata": {
        "colab": {
          "base_uri": "https://localhost:8080/",
          "height": 497
        },
        "id": "jfdTOpS7AZOP",
        "outputId": "1c1a1ebb-31b8-4643-f968-a3b3bca34050"
      },
      "source": [
        "%%R\n",
        "north_asia <- gapminder %>%\n",
        "  filter(country %in% c(\"China\", \"Japan\", \"Taiwan\", \"Korea, Rep.\"))\n",
        "line_plot <- ggplot(north_asia, aes(x = year, y = gdpPercap, colour = country)) +\n",
        "  geom_line()\n",
        "line_plot"
      ],
      "execution_count": null,
      "outputs": [
        {
          "output_type": "display_data",
          "data": {
            "image/png": "[encoded data removed]"
          },
          "metadata": {}
        }
      ]
    },
    {
      "cell_type": "code",
      "metadata": {
        "colab": {
          "base_uri": "https://localhost:8080/",
          "height": 497
        },
        "id": "JCQasthGBmTD",
        "outputId": "7a44ae80-020c-4aed-e034-83e22f77ab18"
      },
      "source": [
        "%%R\n",
        "north_asia <- gapminder %>%\n",
        "  filter(country %in% c(\" Afghanistan\", \"Albania\", \"Algeria\", \"Angola\", \"Argentina\",\"Austria.\"))\n",
        "line_plot <- ggplot(north_asia, aes(x = year, y = gdpPercap, colour = country)) +\n",
        "  geom_line()\n",
        "line_plot"
      ],
      "execution_count": null,
      "outputs": [
        {
          "output_type": "display_data",
          "data": {
            "image/png": "[encoded data removed]"
          },
          "metadata": {}
        }
      ]
    },
    {
      "cell_type": "code",
      "metadata": {
        "colab": {
          "base_uri": "https://localhost:8080/"
        },
        "id": "VWHqkoOABtWN",
        "outputId": "ae7203c9-f8cc-4abd-9d45-5e9af743c59a"
      },
      "source": [
        "%%R\n",
        "gapminder %>%\n",
        "  filter(year == 1952)"
      ],
      "execution_count": null,
      "outputs": [
        {
          "output_type": "stream",
          "name": "stdout",
          "text": [
            "# A tibble: 142 × 6\n",
            "   country     continent  year lifeExp      pop gdpPercap\n",
            "   <fct>       <fct>     <int>   <dbl>    <int>     <dbl>\n",
            " 1 Afghanistan Asia       1952    28.8  8425333      779.\n",
            " 2 Albania     Europe     1952    55.2  1282697     1601.\n",
            " 3 Algeria     Africa     1952    43.1  9279525     2449.\n",
            " 4 Angola      Africa     1952    30.0  4232095     3521.\n",
            " 5 Argentina   Americas   1952    62.5 17876956     5911.\n",
            " 6 Australia   Oceania    1952    69.1  8691212    10040.\n",
            " 7 Austria     Europe     1952    66.8  6927772     6137.\n",
            " 8 Bahrain     Asia       1952    50.9   120447     9867.\n",
            " 9 Bangladesh  Asia       1952    37.5 46886859      684.\n",
            "10 Belgium     Europe     1952    68    8730405     8343.\n",
            "# … with 132 more rows\n"
          ]
        }
      ]
    },
    {
      "cell_type": "code",
      "metadata": {
        "colab": {
          "base_uri": "https://localhost:8080/",
          "height": 497
        },
        "id": "6112p85MDpOw",
        "outputId": "4001bc88-df44-457d-d48f-f1ba793c28cf"
      },
      "source": [
        "%%R\n",
        "box_plot <- ggplot(gapminder_2007, aes(x = continent, y = gdpPercap)) +\n",
        "  geom_boxplot()\n",
        "box_plot"
      ],
      "execution_count": null,
      "outputs": [
        {
          "output_type": "display_data",
          "data": {
            "image/png": "[encoded data removed]"
          },
          "metadata": {}
        }
      ]
    },
    {
      "cell_type": "code",
      "metadata": {
        "colab": {
          "base_uri": "https://localhost:8080/",
          "height": 497
        },
        "id": "Odre_ze9EYo-",
        "outputId": "6bec7b5a-718d-404b-bbd0-98abec353c04"
      },
      "source": [
        "%%R\n",
        "gdpPercap_2007_na <- gapminder %>%\n",
        "  filter(year == 2007 & country %in% c(\"China\", \"Japan\", \"Taiwan\", \"Korea, Rep.\"))\n",
        "bar_plot <- ggplot(gdpPercap_2007_na, aes(x = country, y = gdpPercap)) +\n",
        "  geom_bar(stat = \"identity\")\n",
        "bar_plot"
      ],
      "execution_count": null,
      "outputs": [
        {
          "output_type": "display_data",
          "data": {
            "image/png": "[encoded data removed]"
          },
          "metadata": {}
        }
      ]
    },
    {
      "cell_type": "code",
      "metadata": {
        "id": "bzA0FFzGBxm7"
      },
      "source": [
        "%load_ext rpy2.ipython"
      ],
      "execution_count": null,
      "outputs": []
    },
    {
      "cell_type": "code",
      "metadata": {
        "colab": {
          "base_uri": "https://localhost:8080/"
        },
        "id": "Vv-UOw0iFfsk",
        "outputId": "3929d6b8-d62f-45e1-959b-0b4792e4cb7f"
      },
      "source": [
        "%%R\n",
        "8 > 7\n",
        "print(8>7)\n",
        "class(8>7)"
      ],
      "execution_count": null,
      "outputs": [
        {
          "output_type": "stream",
          "name": "stdout",
          "text": [
            "[1] TRUE\n",
            "[1] \"logical\"\n"
          ]
        }
      ]
    },
    {
      "cell_type": "code",
      "metadata": {
        "colab": {
          "base_uri": "https://localhost:8080/"
        },
        "id": "ho_cHLZwBzsw",
        "outputId": "c9ee1769-4659-422f-a853-2d220a552608"
      },
      "source": [
        "%%R\n",
        "sys_date <- Sys.Date()\n",
        "sys_date_char <- as.character(sys_date) # 創造一個文字類型\n",
        " \n",
        "\n",
        "sys_date - 33"
      ],
      "execution_count": null,
      "outputs": [
        {
          "output_type": "stream",
          "name": "stdout",
          "text": [
            "[1] \"2021-09-25\"\n"
          ]
        }
      ]
    },
    {
      "cell_type": "code",
      "metadata": {
        "colab": {
          "base_uri": "https://localhost:8080/"
        },
        "id": "x0Gjov9_Ic7l",
        "outputId": "2c5a1573-b46d-4e93-e352-83b5cac54e78"
      },
      "source": [
        "%%R\n",
        "four_seasons <- c(\"spring\", \"summer\", \"autumn\", \"winter\")\n",
        "favorite_season <- four_seasons[4]\n",
        "favorite_season\n",
        "\n",
        "four_seasons <- c(\"spring\", \"summer\", \"autumn\", \"winter\")\n",
        "favorite_seasons <- four_seasons[c(-2, -4)]\n",
        "favorite_seasons\n",
        "\n",
        "lucky_numbers <- c(7L, 24)\n",
        "class(lucky_numbers[1])"
      ],
      "execution_count": null,
      "outputs": [
        {
          "output_type": "stream",
          "name": "stdout",
          "text": [
            "[1] \"numeric\"\n"
          ]
        }
      ]
    },
    {
      "cell_type": "code",
      "metadata": {
        "colab": {
          "base_uri": "https://localhost:8080/"
        },
        "id": "PLc11mzwFc3Z",
        "outputId": "11f7ae8e-f7de-43f1-e779-eecd286041a6"
      },
      "source": [
        "%%R\n",
        "four_seasons <- c(\"spring\", \"summer\", \"autumn\", \"winter\")\n",
        "my_favorite_seasons <- four_seasons == \"spring\" | four_seasons == \"autumn\" # 我喜歡春天或秋天\n",
        "four_seasons[my_favorite_seasons]"
      ],
      "execution_count": null,
      "outputs": [
        {
          "output_type": "stream",
          "name": "stdout",
          "text": [
            "[1] \"spring\" \"autumn\"\n"
          ]
        }
      ]
    },
    {
      "cell_type": "code",
      "metadata": {
        "colab": {
          "base_uri": "https://localhost:8080/"
        },
        "id": "RHmKAurcF1h1",
        "outputId": "018bb7dc-ff9b-4860-8825-e8f4a82c966c"
      },
      "source": [
        "%%R\n",
        "rep(7L, times = 8)\n",
        "rep(\"R\", times = 10)"
      ],
      "execution_count": null,
      "outputs": [
        {
          "output_type": "stream",
          "name": "stdout",
          "text": [
            " [1] \"R\" \"R\" \"R\" \"R\" \"R\" \"R\" \"R\" \"R\" \"R\" \"R\"\n"
          ]
        }
      ]
    },
    {
      "cell_type": "code",
      "metadata": {
        "colab": {
          "base_uri": "https://localhost:8080/"
        },
        "id": "hVB09eb7F4zC",
        "outputId": "cfb4f4c8-94ca-4433-d52d-9e4b796c82a1"
      },
      "source": [
        "%%R\n",
        "seq(from = 7, to = 77, by = 7)"
      ],
      "execution_count": null,
      "outputs": [
        {
          "output_type": "stream",
          "name": "stdout",
          "text": [
            " [1]  7 14 21 28 35 42 49 56 63 70 77\n"
          ]
        }
      ]
    },
    {
      "cell_type": "code",
      "metadata": {
        "colab": {
          "base_uri": "https://localhost:8080/"
        },
        "id": "gL3lgDgaF71J",
        "outputId": "8ff5c2bb-eeb6-45c1-835f-7991006987ce"
      },
      "source": [
        "%%R\n",
        "seq(from = 1, to = 1000, by = 3)"
      ],
      "execution_count": null,
      "outputs": [
        {
          "output_type": "stream",
          "name": "stdout",
          "text": [
            "  [1]    1    4    7   10   13   16   19   22   25   28   31   34   37   40   43\n",
            " [16]   46   49   52   55   58   61   64   67   70   73   76   79   82   85   88\n",
            " [31]   91   94   97  100  103  106  109  112  115  118  121  124  127  130  133\n",
            " [46]  136  139  142  145  148  151  154  157  160  163  166  169  172  175  178\n",
            " [61]  181  184  187  190  193  196  199  202  205  208  211  214  217  220  223\n",
            " [76]  226  229  232  235  238  241  244  247  250  253  256  259  262  265  268\n",
            " [91]  271  274  277  280  283  286  289  292  295  298  301  304  307  310  313\n",
            "[106]  316  319  322  325  328  331  334  337  340  343  346  349  352  355  358\n",
            "[121]  361  364  367  370  373  376  379  382  385  388  391  394  397  400  403\n",
            "[136]  406  409  412  415  418  421  424  427  430  433  436  439  442  445  448\n",
            "[151]  451  454  457  460  463  466  469  472  475  478  481  484  487  490  493\n",
            "[166]  496  499  502  505  508  511  514  517  520  523  526  529  532  535  538\n",
            "[181]  541  544  547  550  553  556  559  562  565  568  571  574  577  580  583\n",
            "[196]  586  589  592  595  598  601  604  607  610  613  616  619  622  625  628\n",
            "[211]  631  634  637  640  643  646  649  652  655  658  661  664  667  670  673\n",
            "[226]  676  679  682  685  688  691  694  697  700  703  706  709  712  715  718\n",
            "[241]  721  724  727  730  733  736  739  742  745  748  751  754  757  760  763\n",
            "[256]  766  769  772  775  778  781  784  787  790  793  796  799  802  805  808\n",
            "[271]  811  814  817  820  823  826  829  832  835  838  841  844  847  850  853\n",
            "[286]  856  859  862  865  868  871  874  877  880  883  886  889  892  895  898\n",
            "[301]  901  904  907  910  913  916  919  922  925  928  931  934  937  940  943\n",
            "[316]  946  949  952  955  958  961  964  967  970  973  976  979  982  985  988\n",
            "[331]  991  994  997 1000\n"
          ]
        }
      ]
    },
    {
      "cell_type": "code",
      "metadata": {
        "id": "AkXDZskIGB0o",
        "outputId": "f7c75dd1-4f37-4df0-e92c-76cc47fc6b25",
        "colab": {
          "base_uri": "https://localhost:8080/"
        }
      },
      "source": [
        "%%R\n",
        "rep(\"good job\", times = 3)"
      ],
      "execution_count": null,
      "outputs": [
        {
          "output_type": "stream",
          "name": "stdout",
          "text": [
            "[1] \"good job\" \"good job\" \"good job\"\n"
          ]
        }
      ]
    }
  ]
}