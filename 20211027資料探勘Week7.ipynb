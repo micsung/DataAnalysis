{
  "nbformat": 4,
  "nbformat_minor": 0,
  "metadata": {
    "colab": {
      "name": "20211027資料探勘第七週宋宜蓁",
      "provenance": [],
      "collapsed_sections": [],
      "authorship_tag": "ABX9TyM5MI6tNdUwzREAp9AEqnEv",
      "include_colab_link": true
    },
    "kernelspec": {
      "name": "python3",
      "display_name": "Python 3"
    },
    "language_info": {
      "name": "python"
    }
  },
  "cells": [
    {
      "cell_type": "markdown",
      "metadata": {
        "id": "view-in-github",
        "colab_type": "text"
      },
      "source": [
        "<a href=\"https://colab.research.google.com/github/micsung/data_analysis_n_application/blob/main/20211027%E8%B3%87%E6%96%99%E6%8E%A2%E5%8B%98Week7.ipynb\" target=\"_parent\"><img src=\"https://colab.research.google.com/assets/colab-badge.svg\" alt=\"Open In Colab\"/></a>"
      ]
    },
    {
      "cell_type": "code",
      "metadata": {
        "id": "sfZTQURg266Y",
        "colab": {
          "base_uri": "https://localhost:8080/"
        },
        "outputId": "b0938f2e-6a91-4d50-fc4f-1460b36e649a"
      },
      "source": [
        "%load_ext rpy2.ipython"
      ],
      "execution_count": 2,
      "outputs": [
        {
          "output_type": "stream",
          "name": "stdout",
          "text": [
            "The rpy2.ipython extension is already loaded. To reload it, use:\n",
            "  %reload_ext rpy2.ipython\n"
          ]
        }
      ]
    },
    {
      "cell_type": "code",
      "metadata": {
        "colab": {
          "base_uri": "https://localhost:8080/"
        },
        "id": "frZXlTPcBD6I",
        "outputId": "f374565d-a58f-4df8-ec7e-199ae1edefab"
      },
      "source": [
        "%%R\n",
        "four_seasons <- c(\"spring\", \"summer\", \"autumn\", \"winter\")\n",
        "four_seasons\n"
      ],
      "execution_count": 3,
      "outputs": [
        {
          "output_type": "stream",
          "name": "stdout",
          "text": [
            "[1] \"spring\" \"summer\" \"autumn\" \"winter\"\n"
          ]
        }
      ]
    },
    {
      "cell_type": "code",
      "metadata": {
        "colab": {
          "base_uri": "https://localhost:8080/"
        },
        "id": "qove4JlLDuxH",
        "outputId": "2197f21e-5970-422a-a428-b328a3fca8ab"
      },
      "source": [
        "%%R\n",
        "weekends <- c(\"Saturday\", \"Sunday\")\n",
        "my_lucky_numbers <- c(7L, 24L)\n",
        "weekends"
      ],
      "execution_count": 4,
      "outputs": [
        {
          "output_type": "stream",
          "name": "stdout",
          "text": [
            "[1] \"Saturday\" \"Sunday\"  \n"
          ]
        }
      ]
    },
    {
      "cell_type": "code",
      "metadata": {
        "colab": {
          "base_uri": "https://localhost:8080/"
        },
        "id": "C3ULHdKREAHM",
        "outputId": "d936939d-79e5-47b4-b5e0-bce430de85dc"
      },
      "source": [
        "%%R\n",
        "four_seasons_factor <- factor(four_seasons)\n",
        "print(four_seasons_factor)"
      ],
      "execution_count": 5,
      "outputs": [
        {
          "output_type": "stream",
          "name": "stdout",
          "text": [
            "[1] spring summer autumn winter\n",
            "Levels: autumn spring summer winter\n"
          ]
        }
      ]
    },
    {
      "cell_type": "code",
      "metadata": {
        "colab": {
          "base_uri": "https://localhost:8080/"
        },
        "id": "6xbMwwG-D5gv",
        "outputId": "d96d7b8d-b0e4-48f6-f60a-fbca861629cc"
      },
      "source": [
        "%%R\n",
        "four_seasons <- c(\"spring\", \"summer\", \"autumn\", \"winter\")\n",
        "four_seasons_factor <- factor(four_seasons, ordered = TRUE, levels = c(\"summer\", \"winter\", \"spring\", \"autumn\"))\n",
        "four_seasons_factor\n"
      ],
      "execution_count": 6,
      "outputs": [
        {
          "output_type": "stream",
          "name": "stdout",
          "text": [
            "[1] spring summer autumn winter\n",
            "Levels: summer < winter < spring < autumn\n"
          ]
        }
      ]
    },
    {
      "cell_type": "code",
      "metadata": {
        "colab": {
          "base_uri": "https://localhost:8080/"
        },
        "id": "mBwdKmU1EEzu",
        "outputId": "97f74847-78e6-4ccc-aaec-06b954e2aea4"
      },
      "source": [
        "%%R\n",
        "temperatures <- c(\"warm\", \"hot\", \"cold\")\n",
        "temp_factors <- factor(temperatures, ordered = TRUE, levels = c(\"warm\", \"hot\", \"cold\"))\n",
        "temp_factors"
      ],
      "execution_count": 7,
      "outputs": [
        {
          "output_type": "stream",
          "name": "stdout",
          "text": [
            "[1] warm hot  cold\n",
            "Levels: warm < hot < cold\n"
          ]
        }
      ]
    },
    {
      "cell_type": "code",
      "metadata": {
        "colab": {
          "base_uri": "https://localhost:8080/"
        },
        "id": "9uENneraEJNY",
        "outputId": "1194dbb3-db70-4b13-a76b-8ccd6ff16b11"
      },
      "source": [
        "%%R\n",
        "temperatures <- c(\"warm\", \"hot\", \"windy\")\n",
        "temp_factors <- factor(temperatures, ordered = TRUE, levels = c(\"warm\",\"hot\",\"windy\"))\n",
        "temp_factors"
      ],
      "execution_count": 8,
      "outputs": [
        {
          "output_type": "stream",
          "name": "stdout",
          "text": [
            "[1] warm  hot   windy\n",
            "Levels: warm < hot < windy\n"
          ]
        }
      ]
    },
    {
      "cell_type": "code",
      "metadata": {
        "colab": {
          "base_uri": "https://localhost:8080/"
        },
        "id": "Q0-jsTc9EPWu",
        "outputId": "04dfc547-e586-4a15-cd3d-96091e26a79b"
      },
      "source": [
        "%%R\n",
        "print(month.name)\n",
        "for (m in month.name){\n",
        "   print(m)\n",
        "}"
      ],
      "execution_count": 9,
      "outputs": [
        {
          "output_type": "stream",
          "name": "stdout",
          "text": [
            " [1] \"January\"   \"February\"  \"March\"     \"April\"     \"May\"       \"June\"     \n",
            " [7] \"July\"      \"August\"    \"September\" \"October\"   \"November\"  \"December\" \n",
            "[1] \"January\"\n",
            "[1] \"February\"\n",
            "[1] \"March\"\n",
            "[1] \"April\"\n",
            "[1] \"May\"\n",
            "[1] \"June\"\n",
            "[1] \"July\"\n",
            "[1] \"August\"\n",
            "[1] \"September\"\n",
            "[1] \"October\"\n",
            "[1] \"November\"\n",
            "[1] \"December\"\n"
          ]
        }
      ]
    },
    {
      "cell_type": "code",
      "metadata": {
        "colab": {
          "base_uri": "https://localhost:8080/"
        },
        "id": "oJMBDo-e2TlK",
        "outputId": "9d767d01-c5b7-4326-b8c8-63fefbe32a56"
      },
      "source": [
        "%%R\n",
        "\n",
        "print(month.name)\n"
      ],
      "execution_count": 10,
      "outputs": [
        {
          "output_type": "stream",
          "name": "stdout",
          "text": [
            " [1] \"January\"   \"February\"  \"March\"     \"April\"     \"May\"       \"June\"     \n",
            " [7] \"July\"      \"August\"    \"September\" \"October\"   \"November\"  \"December\" \n"
          ]
        }
      ]
    },
    {
      "cell_type": "code",
      "metadata": {
        "colab": {
          "base_uri": "https://localhost:8080/"
        },
        "id": "qX0Mo5pA3sy2",
        "outputId": "e8681cf0-74ea-4ec5-9f8c-a9cd7871d5b3"
      },
      "source": [
        "%%R\n",
        "i <- 6\n",
        "while (i < 12){\n",
        "   print(month.name[i])\n",
        "   i <- i + 1\n",
        "}"
      ],
      "execution_count": 11,
      "outputs": [
        {
          "output_type": "stream",
          "name": "stdout",
          "text": [
            "[1] \"June\"\n",
            "[1] \"July\"\n",
            "[1] \"August\"\n",
            "[1] \"September\"\n",
            "[1] \"October\"\n",
            "[1] \"November\"\n"
          ]
        }
      ]
    },
    {
      "cell_type": "code",
      "metadata": {
        "colab": {
          "base_uri": "https://localhost:8080/"
        },
        "id": "C7C-mHhR30_s",
        "outputId": "ad1a063a-69e5-4f92-bf6d-3ac293097f91"
      },
      "source": [
        "%%R\n",
        "flip_results <- c() # 建立一個空的向量來放置每一次投擲的結果\n",
        "coin <- c(TRUE, FALSE) # TRUE 代表正面，FALSE 代表反面\n",
        "n_flips <- 1 # 從第一次投擲開始記錄\n",
        "\n",
        "while (sum(flip_results) < 3){\n",
        "    flip_results[n_flips] <- sample(coin, size = 1) # 將每次投擲結果記錄起來\n",
        "    n_flips <- n_flips + 1 # 準備記錄下一次的投擲結果\n",
        "}\n",
        "length(flip_results) # 印出每次投擲的紀錄\n",
        "print(length(flip_results))\n",
        "print(flip_results)"
      ],
      "execution_count": null,
      "outputs": [
        {
          "output_type": "stream",
          "name": "stdout",
          "text": [
            "[1] 4\n",
            "[1] FALSE  TRUE  TRUE  TRUE\n"
          ]
        }
      ]
    },
    {
      "cell_type": "code",
      "metadata": {
        "colab": {
          "base_uri": "https://localhost:8080/"
        },
        "id": "-2cHYR8M4Muo",
        "outputId": "e47a8fda-39eb-4603-beff-1a4536214fa8"
      },
      "source": [
        "%%R\n",
        "my_mat <- matrix(1:6, nrow = 2, byrow = TRUE)\n",
        "print(my_mat)\n",
        "my_mat[2]"
      ],
      "execution_count": 12,
      "outputs": [
        {
          "output_type": "stream",
          "name": "stdout",
          "text": [
            "     [,1] [,2] [,3]\n",
            "[1,]    1    2    3\n",
            "[2,]    4    5    6\n",
            "[1] 4\n"
          ]
        }
      ]
    },
    {
      "cell_type": "code",
      "metadata": {
        "colab": {
          "base_uri": "https://localhost:8080/"
        },
        "id": "SxTwgue36iIB",
        "outputId": "5d293ce3-13d0-481a-950f-4607259240e1"
      },
      "source": [
        "%%R\n",
        "my_mat <- matrix(1:6, nrow = 2)\n",
        "print(my_mat)\n",
        "filter <- my_mat < 6 | my_mat > 2\n",
        "my_mat[filter]"
      ],
      "execution_count": 13,
      "outputs": [
        {
          "output_type": "stream",
          "name": "stdout",
          "text": [
            "     [,1] [,2] [,3]\n",
            "[1,]    1    3    5\n",
            "[2,]    2    4    6\n",
            "[1] 1 2 3 4 5 6\n"
          ]
        }
      ]
    },
    {
      "cell_type": "code",
      "metadata": {
        "colab": {
          "base_uri": "https://localhost:8080/"
        },
        "id": "4PpFIb6t6CQ3",
        "outputId": "8f15632b-3974-4b98-ded3-f26afa042435"
      },
      "source": [
        "%%R\n",
        "my_mat <- matrix(c(1, 2, TRUE, FALSE, 3, 4), nrow = 2)\n",
        "my_mat"
      ],
      "execution_count": 14,
      "outputs": [
        {
          "output_type": "stream",
          "name": "stdout",
          "text": [
            "     [,1] [,2] [,3]\n",
            "[1,]    1    1    3\n",
            "[2,]    2    0    4\n"
          ]
        }
      ]
    },
    {
      "cell_type": "code",
      "metadata": {
        "colab": {
          "base_uri": "https://localhost:8080/"
        },
        "id": "tL7M0Bk17o8D",
        "outputId": "3bc09706-a47c-4964-85af-b952a8bc77d2"
      },
      "source": [
        "%%R\n",
        "team_name <- c(\"Chicago Bulls\", \"Golden State Warriors\")\n",
        "wins <- c(72, 73)\n",
        "losses <- c(10, 9)\n",
        "is_champion <- c(TRUE, FALSE)\n",
        "season <- c(\"1995-96\", \"2015-16\")\n",
        "great_nba_teams <- data.frame(team_name, wins, losses, is_champion, season)\n",
        "print(great_nba_teams) # 選出第一個變數的第一個觀測值 \"Chicago Bulls\"\n",
        "print(great_nba_teams[, 1])"
      ],
      "execution_count": 15,
      "outputs": [
        {
          "output_type": "stream",
          "name": "stdout",
          "text": [
            "              team_name wins losses is_champion  season\n",
            "1         Chicago Bulls   72     10        TRUE 1995-96\n",
            "2 Golden State Warriors   73      9       FALSE 2015-16\n",
            "[1] \"Chicago Bulls\"         \"Golden State Warriors\"\n"
          ]
        }
      ]
    },
    {
      "cell_type": "code",
      "metadata": {
        "colab": {
          "base_uri": "https://localhost:8080/"
        },
        "id": "xlfE1xUK7ekd",
        "outputId": "6b3a09b2-c1ba-472b-e28e-f1436ebab29b"
      },
      "source": [
        "%%R\n",
        "team_name <- c(\"Chicago Bulls\", \"Golden State Warriors\", \"Boston Rocket\")\n",
        "wins <- c(72, 73, 69)\n",
        "losses <- c(10, 9, 10)\n",
        "is_champion <- c(TRUE, FALSE, TRUE)\n",
        "season <- c(\"1995-96\", \"2015-16\", \"2008-09\")\n",
        " \n",
        "great_nba_teams <- data.frame(team_name, wins, losses, is_champion, season, stringsAsFactors = FALSE)\n",
        "filter <- great_nba_teams$is_champion == TRUE\n",
        "great_nba_teams[filter, ] # 注意這個逗號\n",
        "print(str(great_nba_teams))"
      ],
      "execution_count": 16,
      "outputs": [
        {
          "output_type": "stream",
          "name": "stdout",
          "text": [
            "'data.frame':\t3 obs. of  5 variables:\n",
            " $ team_name  : chr  \"Chicago Bulls\" \"Golden State Warriors\" \"Boston Rocket\"\n",
            " $ wins       : num  72 73 69\n",
            " $ losses     : num  10 9 10\n",
            " $ is_champion: logi  TRUE FALSE TRUE\n",
            " $ season     : chr  \"1995-96\" \"2015-16\" \"2008-09\"\n",
            "NULL\n"
          ]
        }
      ]
    },
    {
      "cell_type": "code",
      "metadata": {
        "id": "U57Uv-LB98Z9",
        "colab": {
          "base_uri": "https://localhost:8080/"
        },
        "outputId": "8c1aa57c-9c9a-444f-8ed2-cfaadbcdbfd3"
      },
      "source": [
        "%%R\n",
        "city <- c(\"Tampa\",\"Seattle\",\"Hartford\",\"Denver\")\n",
        "state <- c(\"FL\",\"WA\",\"CT\",\"CO\")\n",
        "zipcode <- c(33602,98104,06161,80294)\n",
        "addresses <- cbind(city,state,zipcode)\n",
        "#Print a header.\n",
        "cat(\"# # # # The First data frame\\n\")\n",
        "print(addresses)\n",
        "\n",
        "# Create another data frame with similar columns\n",
        "new.address <- data.frame(\n",
        "   city = c(\"Lowry\",\"Charlotte\"),\n",
        "   state = c(\"CO\",\"FL\"),\n",
        "   zipcode = c(\"80230\",\"33949\"),\n",
        "   stringsAsFactors = FALSE\n",
        ")\n",
        "\n",
        "# Print a header.\n",
        "cat(\"# # # The Second data frame\\n\") \n",
        "\n",
        "# Print the data frame.\n",
        "print(new.address)\n",
        "# Combine rows form both the data frames.\n",
        "all.addresses <- rbind(addresses,new.address)\n",
        "\n",
        "# Print a header.\n",
        "cat(\"# # # The combined data frame\\n\") \n",
        "\n",
        "# Print the result.\n",
        "print(all.addresses)"
      ],
      "execution_count": 17,
      "outputs": [
        {
          "output_type": "stream",
          "name": "stdout",
          "text": [
            "# # # # The First data frame\n",
            "     city       state zipcode\n",
            "[1,] \"Tampa\"    \"FL\"  \"33602\"\n",
            "[2,] \"Seattle\"  \"WA\"  \"98104\"\n",
            "[3,] \"Hartford\" \"CT\"  \"6161\" \n",
            "[4,] \"Denver\"   \"CO\"  \"80294\"\n",
            "# # # The Second data frame\n",
            "       city state zipcode\n",
            "1     Lowry    CO   80230\n",
            "2 Charlotte    FL   33949\n",
            "# # # The combined data frame\n",
            "       city state zipcode\n",
            "1     Tampa    FL   33602\n",
            "2   Seattle    WA   98104\n",
            "3  Hartford    CT    6161\n",
            "4    Denver    CO   80294\n",
            "5     Lowry    CO   80230\n",
            "6 Charlotte    FL   33949\n"
          ]
        }
      ]
    },
    {
      "cell_type": "code",
      "metadata": {
        "id": "cSRHtfCQ-evC",
        "colab": {
          "base_uri": "https://localhost:8080/"
        },
        "outputId": "f95d3712-ef9c-4295-f0b3-ca1c22597839"
      },
      "source": [
        "%%R\n",
        "install.packages(\"reshape\")\n",
        "library(reshape)\n",
        "library(MASS)\n",
        "merged.Pima <- merge(x = Pima.te, y = Pima.tr,\n",
        "   by.x = c(\"bp\", \"bmi\"),\n",
        "   by.y = c(\"bp\", \"bmi\")\n",
        ")\n",
        "print(merged.Pima)\n",
        "nrow(merged.Pima)\n"
      ],
      "execution_count": 19,
      "outputs": [
        {
          "output_type": "stream",
          "name": "stderr",
          "text": [
            "R[write to console]: Installing package into ‘/usr/local/lib/R/site-library’\n",
            "(as ‘lib’ is unspecified)\n",
            "\n",
            "R[write to console]: also installing the dependency ‘plyr’\n",
            "\n",
            "\n",
            "R[write to console]: trying URL 'https://cran.rstudio.com/src/contrib/plyr_1.8.7.tar.gz'\n",
            "\n",
            "R[write to console]: Content type 'application/x-gzip'\n",
            "R[write to console]:  length 401481 bytes (392 KB)\n",
            "\n",
            "R[write to console]: =\n",
            "R[write to console]: =\n",
            "R[write to console]: =\n",
            "R[write to console]: =\n",
            "R[write to console]: =\n",
            "R[write to console]: =\n",
            "R[write to console]: =\n",
            "R[write to console]: =\n",
            "R[write to console]: =\n",
            "R[write to console]: =\n",
            "R[write to console]: =\n",
            "R[write to console]: =\n",
            "R[write to console]: =\n",
            "R[write to console]: =\n",
            "R[write to console]: =\n",
            "R[write to console]: =\n",
            "R[write to console]: =\n",
            "R[write to console]: =\n",
            "R[write to console]: =\n",
            "R[write to console]: =\n",
            "R[write to console]: =\n",
            "R[write to console]: =\n",
            "R[write to console]: =\n",
            "R[write to console]: =\n",
            "R[write to console]: =\n",
            "R[write to console]: =\n",
            "R[write to console]: =\n",
            "R[write to console]: =\n",
            "R[write to console]: =\n",
            "R[write to console]: =\n",
            "R[write to console]: =\n",
            "R[write to console]: =\n",
            "R[write to console]: =\n",
            "R[write to console]: =\n",
            "R[write to console]: =\n",
            "R[write to console]: =\n",
            "R[write to console]: =\n",
            "R[write to console]: =\n",
            "R[write to console]: =\n",
            "R[write to console]: =\n",
            "R[write to console]: =\n",
            "R[write to console]: =\n",
            "R[write to console]: =\n",
            "R[write to console]: =\n",
            "R[write to console]: =\n",
            "R[write to console]: =\n",
            "R[write to console]: =\n",
            "R[write to console]: =\n",
            "R[write to console]: =\n",
            "R[write to console]: =\n",
            "R[write to console]: \n",
            "\n",
            "R[write to console]: downloaded 392 KB\n",
            "\n",
            "\n",
            "R[write to console]: trying URL 'https://cran.rstudio.com/src/contrib/reshape_0.8.9.tar.gz'\n",
            "\n",
            "R[write to console]: Content type 'application/x-gzip'\n",
            "R[write to console]:  length 41843 bytes (40 KB)\n",
            "\n",
            "R[write to console]: =\n",
            "R[write to console]: =\n",
            "R[write to console]: =\n",
            "R[write to console]: =\n",
            "R[write to console]: =\n",
            "R[write to console]: =\n",
            "R[write to console]: =\n",
            "R[write to console]: =\n",
            "R[write to console]: =\n",
            "R[write to console]: =\n",
            "R[write to console]: =\n",
            "R[write to console]: =\n",
            "R[write to console]: =\n",
            "R[write to console]: =\n",
            "R[write to console]: =\n",
            "R[write to console]: =\n",
            "R[write to console]: =\n",
            "R[write to console]: =\n",
            "R[write to console]: =\n",
            "R[write to console]: =\n",
            "R[write to console]: =\n",
            "R[write to console]: =\n",
            "R[write to console]: =\n",
            "R[write to console]: =\n",
            "R[write to console]: =\n",
            "R[write to console]: =\n",
            "R[write to console]: =\n",
            "R[write to console]: =\n",
            "R[write to console]: =\n",
            "R[write to console]: =\n",
            "R[write to console]: =\n",
            "R[write to console]: =\n",
            "R[write to console]: =\n",
            "R[write to console]: =\n",
            "R[write to console]: =\n",
            "R[write to console]: =\n",
            "R[write to console]: =\n",
            "R[write to console]: =\n",
            "R[write to console]: =\n",
            "R[write to console]: =\n",
            "R[write to console]: =\n",
            "R[write to console]: =\n",
            "R[write to console]: =\n",
            "R[write to console]: =\n",
            "R[write to console]: =\n",
            "R[write to console]: =\n",
            "R[write to console]: =\n",
            "R[write to console]: =\n",
            "R[write to console]: =\n",
            "R[write to console]: =\n",
            "R[write to console]: \n",
            "\n",
            "R[write to console]: downloaded 40 KB\n",
            "\n",
            "\n",
            "R[write to console]: \n",
            "\n",
            "R[write to console]: \n",
            "R[write to console]: The downloaded source packages are in\n",
            "\t‘/tmp/RtmpXxdtiK/downloaded_packages’\n",
            "R[write to console]: \n",
            "R[write to console]: \n",
            "\n"
          ]
        },
        {
          "output_type": "stream",
          "name": "stdout",
          "text": [
            "   bp  bmi npreg.x glu.x skin.x ped.x age.x type.x npreg.y glu.y skin.y ped.y\n",
            "1  60 33.8       1   117     23 0.466    27     No       2   125     20 0.088\n",
            "2  64 29.7       2    75     24 0.370    33     No       2   100     23 0.368\n",
            "3  64 31.2       5   189     33 0.583    29    Yes       3   158     13 0.295\n",
            "4  64 33.2       4   117     27 0.230    24     No       1    96     27 0.289\n",
            "5  66 38.1       3   115     39 0.150    28     No       1   114     36 0.289\n",
            "6  68 38.5       2   100     25 0.324    26     No       7   129     49 0.439\n",
            "7  70 27.4       1   116     28 0.204    21     No       0   124     20 0.254\n",
            "8  70 33.1       4    91     32 0.446    22     No       9   123     44 0.374\n",
            "9  70 35.4       9   124     33 0.282    34     No       6   134     23 0.542\n",
            "10 72 25.6       1   157     21 0.123    24     No       4    99     17 0.294\n",
            "11 72 37.7       5    95     33 0.370    27     No       6   103     32 0.324\n",
            "12 74 25.9       9   134     33 0.460    81     No       8   126     38 0.162\n",
            "13 74 25.9       1    95     21 0.673    36     No       8   126     38 0.162\n",
            "14 78 27.6       5    88     30 0.258    37     No       6   125     31 0.565\n",
            "15 78 27.6      10   122     31 0.512    45     No       6   125     31 0.565\n",
            "16 78 39.4       2   112     50 0.175    24     No       4   112     40 0.236\n",
            "17 88 34.5       1   117     24 0.403    40    Yes       4   127     11 0.598\n",
            "   age.y type.y\n",
            "1     31     No\n",
            "2     21     No\n",
            "3     24     No\n",
            "4     21     No\n",
            "5     21     No\n",
            "6     43    Yes\n",
            "7     36    Yes\n",
            "8     40     No\n",
            "9     29    Yes\n",
            "10    28     No\n",
            "11    55     No\n",
            "12    39     No\n",
            "13    39     No\n",
            "14    49    Yes\n",
            "15    49    Yes\n",
            "16    38     No\n",
            "17    28     No\n",
            "[1] 17\n"
          ]
        }
      ]
    },
    {
      "cell_type": "code",
      "metadata": {
        "colab": {
          "base_uri": "https://localhost:8080/"
        },
        "id": "75bosk5PBUob",
        "outputId": "413ab936-ebbe-4889-c3d7-7d1ed4542735"
      },
      "source": [
        "%%R\n",
        "library(reshape)\n",
        "\n",
        "library(MASS)\n",
        "print(nrow(ships))\n",
        "molten.ships <- melt(ships, id = c(\"type\",\"year\"))\n",
        "library(reshape)\n",
        "\n",
        "library(MASS)\n",
        "print(ships)\n",
        "molten.ships <- melt(ships, id = c(\"type\",\"service\"))\n",
        "print(\"====\")\n",
        "print(molten.ships)"
      ],
      "execution_count": 20,
      "outputs": [
        {
          "output_type": "stream",
          "name": "stdout",
          "text": [
            "[1] 40\n",
            "   type year period service incidents\n",
            "1     A   60     60     127         0\n",
            "2     A   60     75      63         0\n",
            "3     A   65     60    1095         3\n",
            "4     A   65     75    1095         4\n",
            "5     A   70     60    1512         6\n",
            "6     A   70     75    3353        18\n",
            "7     A   75     60       0         0\n",
            "8     A   75     75    2244        11\n",
            "9     B   60     60   44882        39\n",
            "10    B   60     75   17176        29\n",
            "11    B   65     60   28609        58\n",
            "12    B   65     75   20370        53\n",
            "13    B   70     60    7064        12\n",
            "14    B   70     75   13099        44\n",
            "15    B   75     60       0         0\n",
            "16    B   75     75    7117        18\n",
            "17    C   60     60    1179         1\n",
            "18    C   60     75     552         1\n",
            "19    C   65     60     781         0\n",
            "20    C   65     75     676         1\n",
            "21    C   70     60     783         6\n",
            "22    C   70     75    1948         2\n",
            "23    C   75     60       0         0\n",
            "24    C   75     75     274         1\n",
            "25    D   60     60     251         0\n",
            "26    D   60     75     105         0\n",
            "27    D   65     60     288         0\n",
            "28    D   65     75     192         0\n",
            "29    D   70     60     349         2\n",
            "30    D   70     75    1208        11\n",
            "31    D   75     60       0         0\n",
            "32    D   75     75    2051         4\n",
            "33    E   60     60      45         0\n",
            "34    E   60     75       0         0\n",
            "35    E   65     60     789         7\n",
            "36    E   65     75     437         7\n",
            "37    E   70     60    1157         5\n",
            "38    E   70     75    2161        12\n",
            "39    E   75     60       0         0\n",
            "40    E   75     75     542         1\n",
            "[1] \"====\"\n",
            "    type service  variable value\n",
            "1      A     127      year    60\n",
            "2      A      63      year    60\n",
            "3      A    1095      year    65\n",
            "4      A    1095      year    65\n",
            "5      A    1512      year    70\n",
            "6      A    3353      year    70\n",
            "7      A       0      year    75\n",
            "8      A    2244      year    75\n",
            "9      B   44882      year    60\n",
            "10     B   17176      year    60\n",
            "11     B   28609      year    65\n",
            "12     B   20370      year    65\n",
            "13     B    7064      year    70\n",
            "14     B   13099      year    70\n",
            "15     B       0      year    75\n",
            "16     B    7117      year    75\n",
            "17     C    1179      year    60\n",
            "18     C     552      year    60\n",
            "19     C     781      year    65\n",
            "20     C     676      year    65\n",
            "21     C     783      year    70\n",
            "22     C    1948      year    70\n",
            "23     C       0      year    75\n",
            "24     C     274      year    75\n",
            "25     D     251      year    60\n",
            "26     D     105      year    60\n",
            "27     D     288      year    65\n",
            "28     D     192      year    65\n",
            "29     D     349      year    70\n",
            "30     D    1208      year    70\n",
            "31     D       0      year    75\n",
            "32     D    2051      year    75\n",
            "33     E      45      year    60\n",
            "34     E       0      year    60\n",
            "35     E     789      year    65\n",
            "36     E     437      year    65\n",
            "37     E    1157      year    70\n",
            "38     E    2161      year    70\n",
            "39     E       0      year    75\n",
            "40     E     542      year    75\n",
            "41     A     127    period    60\n",
            "42     A      63    period    75\n",
            "43     A    1095    period    60\n",
            "44     A    1095    period    75\n",
            "45     A    1512    period    60\n",
            "46     A    3353    period    75\n",
            "47     A       0    period    60\n",
            "48     A    2244    period    75\n",
            "49     B   44882    period    60\n",
            "50     B   17176    period    75\n",
            "51     B   28609    period    60\n",
            "52     B   20370    period    75\n",
            "53     B    7064    period    60\n",
            "54     B   13099    period    75\n",
            "55     B       0    period    60\n",
            "56     B    7117    period    75\n",
            "57     C    1179    period    60\n",
            "58     C     552    period    75\n",
            "59     C     781    period    60\n",
            "60     C     676    period    75\n",
            "61     C     783    period    60\n",
            "62     C    1948    period    75\n",
            "63     C       0    period    60\n",
            "64     C     274    period    75\n",
            "65     D     251    period    60\n",
            "66     D     105    period    75\n",
            "67     D     288    period    60\n",
            "68     D     192    period    75\n",
            "69     D     349    period    60\n",
            "70     D    1208    period    75\n",
            "71     D       0    period    60\n",
            "72     D    2051    period    75\n",
            "73     E      45    period    60\n",
            "74     E       0    period    75\n",
            "75     E     789    period    60\n",
            "76     E     437    period    75\n",
            "77     E    1157    period    60\n",
            "78     E    2161    period    75\n",
            "79     E       0    period    60\n",
            "80     E     542    period    75\n",
            "81     A     127 incidents     0\n",
            "82     A      63 incidents     0\n",
            "83     A    1095 incidents     3\n",
            "84     A    1095 incidents     4\n",
            "85     A    1512 incidents     6\n",
            "86     A    3353 incidents    18\n",
            "87     A       0 incidents     0\n",
            "88     A    2244 incidents    11\n",
            "89     B   44882 incidents    39\n",
            "90     B   17176 incidents    29\n",
            "91     B   28609 incidents    58\n",
            "92     B   20370 incidents    53\n",
            "93     B    7064 incidents    12\n",
            "94     B   13099 incidents    44\n",
            "95     B       0 incidents     0\n",
            "96     B    7117 incidents    18\n",
            "97     C    1179 incidents     1\n",
            "98     C     552 incidents     1\n",
            "99     C     781 incidents     0\n",
            "100    C     676 incidents     1\n",
            "101    C     783 incidents     6\n",
            "102    C    1948 incidents     2\n",
            "103    C       0 incidents     0\n",
            "104    C     274 incidents     1\n",
            "105    D     251 incidents     0\n",
            "106    D     105 incidents     0\n",
            "107    D     288 incidents     0\n",
            "108    D     192 incidents     0\n",
            "109    D     349 incidents     2\n",
            "110    D    1208 incidents    11\n",
            "111    D       0 incidents     0\n",
            "112    D    2051 incidents     4\n",
            "113    E      45 incidents     0\n",
            "114    E       0 incidents     0\n",
            "115    E     789 incidents     7\n",
            "116    E     437 incidents     7\n",
            "117    E    1157 incidents     5\n",
            "118    E    2161 incidents    12\n",
            "119    E       0 incidents     0\n",
            "120    E     542 incidents     1\n"
          ]
        }
      ]
    },
    {
      "cell_type": "code",
      "metadata": {
        "colab": {
          "base_uri": "https://localhost:8080/"
        },
        "id": "Gn8p-qRyGe8C",
        "outputId": "1a344838-5f82-48f7-b474-8672f46aa151"
      },
      "source": [
        "%load_ext rpy2.ipython"
      ],
      "execution_count": 21,
      "outputs": [
        {
          "output_type": "stream",
          "name": "stdout",
          "text": [
            "The rpy2.ipython extension is already loaded. To reload it, use:\n",
            "  %reload_ext rpy2.ipython\n"
          ]
        }
      ]
    },
    {
      "cell_type": "code",
      "metadata": {
        "colab": {
          "base_uri": "https://localhost:8080/"
        },
        "id": "YSHDyQ-kGky2",
        "outputId": "0ca7d29d-1f51-4f4f-8ad6-5ba493778e55"
      },
      "source": [
        "%%R\n",
        "library(class)\n",
        "\n",
        "train <- rbind(iris3[1:25,,1], iris3[1:25,,2], iris3[1:25,,3])\n",
        "#test <- rbind(iris3[26:50,,1], iris3[26:50,,2], iris3[26:50,,3])\n",
        "test <- c(1.4,1.5,1.4,1.5)\n",
        "cls <- factor(c(rep(\"s\",25), rep(\"c\",25), rep(\"v\",25)))\n",
        "\n",
        "summary(knn(train, test, cls, k=25, prob = TRUE))"
      ],
      "execution_count": 22,
      "outputs": [
        {
          "output_type": "stream",
          "name": "stderr",
          "text": [
            "R[write to console]: \n",
            "Attaching package: ‘class’\n",
            "\n",
            "\n",
            "R[write to console]: The following object is masked from ‘package:reshape’:\n",
            "\n",
            "    condense\n",
            "\n",
            "\n"
          ]
        },
        {
          "output_type": "stream",
          "name": "stdout",
          "text": [
            "c s v \n",
            "0 1 0 \n"
          ]
        }
      ]
    }
  ]
}